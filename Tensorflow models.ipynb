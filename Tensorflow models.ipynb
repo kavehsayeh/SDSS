{
  "cells": [
    {
      "cell_type": "code",
      "execution_count": null,
      "id": "bd83d7c7",
      "metadata": {
        "colab": {
          "base_uri": "https://localhost:8080/"
        },
        "id": "bd83d7c7",
        "outputId": "785c99c6-a705-4d49-da17-90d9a0899daf"
      },
      "outputs": [
        {
          "name": "stdout",
          "output_type": "stream",
          "text": [
            "Drive already mounted at /content/drive; to attempt to forcibly remount, call drive.mount(\"/content/drive\", force_remount=True).\n"
          ]
        }
      ],
      "source": [
        "#notebook run on Google Colab\n",
        "import numpy as np\n",
        "import pandas as pd\n",
        "import os\n",
        "\n",
        "import tensorflow as tf\n",
        "from tensorflow import keras\n",
        "from keras import layers\n",
        "from keras.models import Sequential\n",
        "from keras.preprocessing import image_dataset_from_directory\n",
        "from keras.callbacks import EarlyStopping\n",
        "image_size = 256 # can we read this from the imagery?\n",
        "\n",
        "import matplotlib.pyplot as plt\n",
        "\n",
        "from google.colab import drive\n",
        "drive.mount('/content/drive')"
      ]
    },
    {
      "cell_type": "code",
      "execution_count": null,
      "id": "3593ada2-a31d-4b17-9934-855b28f3618f",
      "metadata": {
        "colab": {
          "base_uri": "https://localhost:8080/"
        },
        "id": "3593ada2-a31d-4b17-9934-855b28f3618f",
        "outputId": "5b15543e-c139-4614-e138-777f80efef22"
      },
      "outputs": [
        {
          "name": "stdout",
          "output_type": "stream",
          "text": [
            "Found 3901 files belonging to 4 classes.\n",
            "Using 3121 files for training.\n",
            "Using 780 files for validation.\n",
            "['elliptical', 'irregular', 'lenticular', 'spiral']\n"
          ]
        }
      ],
      "source": [
        "df_train, df_val = image_dataset_from_directory('/content/drive/My Drive/Colab Notebooks/imagery',\n",
        "                                 validation_split = 0.2,\n",
        "                                 subset='both',\n",
        "                                 seed = 0,\n",
        "                                 batch_size = 100,\n",
        "                                 image_size = (image_size, image_size))\n",
        "class_names = df_train.class_names\n",
        "num_classes = len(class_names)\n",
        "print(class_names)"
      ]
    },
    {
      "cell_type": "code",
      "execution_count": null,
      "id": "66b6ecbe-eb09-473e-a241-919a7f2a4c7f",
      "metadata": {
        "colab": {
          "base_uri": "https://localhost:8080/"
        },
        "id": "66b6ecbe-eb09-473e-a241-919a7f2a4c7f",
        "outputId": "88e5a4d2-a75f-4d8c-c6b8-34e4b9cfd005"
      },
      "outputs": [
        {
          "name": "stderr",
          "output_type": "stream",
          "text": [
            "/usr/local/lib/python3.11/dist-packages/keras/src/layers/preprocessing/tf_data_layer.py:19: UserWarning: Do not pass an `input_shape`/`input_dim` argument to a layer. When using Sequential models, prefer using an `Input(shape)` object as the first layer in the model instead.\n",
            "  super().__init__(**kwargs)\n"
          ]
        }
      ],
      "source": [
        "AUTOTUNE = tf.data.AUTOTUNE\n",
        "\n",
        "df_train = df_train.cache().shuffle(1000).prefetch(buffer_size=AUTOTUNE)\n",
        "df_val = df_val.cache().prefetch(buffer_size=AUTOTUNE)\n",
        "\n",
        "data_augmentation = keras.Sequential(\n",
        "  [\n",
        "    layers.RandomFlip(\"horizontal_and_vertical\",\n",
        "                      input_shape=(image_size,\n",
        "                                  image_size,\n",
        "                                  3)),\n",
        "    layers.RandomRotation(0.2),\n",
        "  ]\n",
        ")\n"
      ]
    },
    {
      "cell_type": "code",
      "execution_count": null,
      "id": "wIUdMhEc2CLI",
      "metadata": {
        "id": "wIUdMhEc2CLI"
      },
      "outputs": [],
      "source": [
        "epochs=150\n",
        "patience=8\n",
        "\n",
        "def train_save_plot_model(model, epochs, patience, df_train, df_val, model_filepath):\n",
        "  checkpoint_path = \"/content/drive/My Drive/Colab Notebooks/models/{}/model_checkpoints/{}.weights.h5\".format(model_filepath, model_filepath)\n",
        "  checkpoint_dir = os.path.dirname(checkpoint_path)\n",
        "  cp_callback = tf.keras.callbacks.ModelCheckpoint(filepath=checkpoint_path,\n",
        "                                                 save_weights_only=True,\n",
        "                                                 verbose=1)\n",
        "  early_stopping = EarlyStopping(\n",
        "    patience=patience,\n",
        "    restore_best_weights=True,\n",
        "    )\n",
        "  model.compile(optimizer = 'adam', loss=keras.losses.SparseCategoricalCrossentropy(from_logits=True),\n",
        "              metrics=['accuracy'])\n",
        "  history = model.fit(df_train, validation_data = df_val, epochs=epochs, callbacks=[early_stopping, cp_callback])\n",
        "\n",
        "  model_path = \"/content/drive/My Drive/Colab Notebooks/models/{}/{}.keras\".format(model_filepath, model_filepath)\n",
        "  model.save(model_path)\n",
        "\n",
        "  history_df = pd.DataFrame(history.history)\n",
        "  history_df.to_csv('/content/drive/My Drive/Colab Notebooks/models/{}/{}_history.csv'.format(model_filepath, model_filepath))\n",
        "  history_df.loc[:, ['loss', 'val_loss']].plot();\n",
        "  return history"
      ]
    },
    {
      "cell_type": "code",
      "execution_count": null,
      "id": "cf8aad39-1a07-44bc-90e4-fb8e635e037b",
      "metadata": {
        "colab": {
          "base_uri": "https://localhost:8080/",
          "height": 1000
        },
        "id": "cf8aad39-1a07-44bc-90e4-fb8e635e037b",
        "outputId": "d3d7d632-4662-43ad-b3b2-0fc5672fe3f0"
      },
      "outputs": [
        {
          "name": "stderr",
          "output_type": "stream",
          "text": [
            "/usr/local/lib/python3.11/dist-packages/keras/src/layers/preprocessing/tf_data_layer.py:19: UserWarning: Do not pass an `input_shape`/`input_dim` argument to a layer. When using Sequential models, prefer using an `Input(shape)` object as the first layer in the model instead.\n",
            "  super().__init__(**kwargs)\n"
          ]
        },
        {
          "name": "stdout",
          "output_type": "stream",
          "text": [
            "Epoch 1/150\n",
            "\u001b[1m32/32\u001b[0m \u001b[32m━━━━━━━━━━━━━━━━━━━━\u001b[0m\u001b[37m\u001b[0m \u001b[1m0s\u001b[0m 8s/step - accuracy: 0.4401 - loss: 1.3542\n",
            "Epoch 1: saving model to /content/drive/My Drive/Colab Notebooks/models/base/model_checkpoints/base.weights.h5\n",
            "\u001b[1m32/32\u001b[0m \u001b[32m━━━━━━━━━━━━━━━━━━━━\u001b[0m\u001b[37m\u001b[0m \u001b[1m298s\u001b[0m 9s/step - accuracy: 0.4425 - loss: 1.3477 - val_accuracy: 0.5731 - val_loss: 0.9441\n",
            "Epoch 2/150\n",
            "\u001b[1m32/32\u001b[0m \u001b[32m━━━━━━━━━━━━━━━━━━━━\u001b[0m\u001b[37m\u001b[0m \u001b[1m0s\u001b[0m 8s/step - accuracy: 0.6108 - loss: 0.9212\n",
            "Epoch 2: saving model to /content/drive/My Drive/Colab Notebooks/models/base/model_checkpoints/base.weights.h5\n",
            "\u001b[1m32/32\u001b[0m \u001b[32m━━━━━━━━━━━━━━━━━━━━\u001b[0m\u001b[37m\u001b[0m \u001b[1m312s\u001b[0m 9s/step - accuracy: 0.6112 - loss: 0.9199 - val_accuracy: 0.6667 - val_loss: 0.7763\n",
            "Epoch 3/150\n",
            "\u001b[1m32/32\u001b[0m \u001b[32m━━━━━━━━━━━━━━━━━━━━\u001b[0m\u001b[37m\u001b[0m \u001b[1m0s\u001b[0m 9s/step - accuracy: 0.6234 - loss: 0.8261\n",
            "Epoch 3: saving model to /content/drive/My Drive/Colab Notebooks/models/base/model_checkpoints/base.weights.h5\n",
            "\u001b[1m32/32\u001b[0m \u001b[32m━━━━━━━━━━━━━━━━━━━━\u001b[0m\u001b[37m\u001b[0m \u001b[1m295s\u001b[0m 9s/step - accuracy: 0.6237 - loss: 0.8257 - val_accuracy: 0.6513 - val_loss: 0.7579\n",
            "Epoch 4/150\n",
            "\u001b[1m32/32\u001b[0m \u001b[32m━━━━━━━━━━━━━━━━━━━━\u001b[0m\u001b[37m\u001b[0m \u001b[1m0s\u001b[0m 8s/step - accuracy: 0.6581 - loss: 0.7604\n",
            "Epoch 4: saving model to /content/drive/My Drive/Colab Notebooks/models/base/model_checkpoints/base.weights.h5\n",
            "\u001b[1m32/32\u001b[0m \u001b[32m━━━━━━━━━━━━━━━━━━━━\u001b[0m\u001b[37m\u001b[0m \u001b[1m315s\u001b[0m 9s/step - accuracy: 0.6580 - loss: 0.7608 - val_accuracy: 0.6487 - val_loss: 0.7700\n",
            "Epoch 5/150\n",
            "\u001b[1m32/32\u001b[0m \u001b[32m━━━━━━━━━━━━━━━━━━━━\u001b[0m\u001b[37m\u001b[0m \u001b[1m0s\u001b[0m 9s/step - accuracy: 0.6745 - loss: 0.7674\n",
            "Epoch 5: saving model to /content/drive/My Drive/Colab Notebooks/models/base/model_checkpoints/base.weights.h5\n",
            "\u001b[1m32/32\u001b[0m \u001b[32m━━━━━━━━━━━━━━━━━━━━\u001b[0m\u001b[37m\u001b[0m \u001b[1m330s\u001b[0m 9s/step - accuracy: 0.6743 - loss: 0.7674 - val_accuracy: 0.6474 - val_loss: 0.7299\n",
            "Epoch 6/150\n",
            "\u001b[1m32/32\u001b[0m \u001b[32m━━━━━━━━━━━━━━━━━━━━\u001b[0m\u001b[37m\u001b[0m \u001b[1m0s\u001b[0m 8s/step - accuracy: 0.6575 - loss: 0.7431\n",
            "Epoch 6: saving model to /content/drive/My Drive/Colab Notebooks/models/base/model_checkpoints/base.weights.h5\n",
            "\u001b[1m32/32\u001b[0m \u001b[32m━━━━━━━━━━━━━━━━━━━━\u001b[0m\u001b[37m\u001b[0m \u001b[1m310s\u001b[0m 9s/step - accuracy: 0.6574 - loss: 0.7437 - val_accuracy: 0.6718 - val_loss: 0.7199\n",
            "Epoch 7/150\n",
            "\u001b[1m32/32\u001b[0m \u001b[32m━━━━━━━━━━━━━━━━━━━━\u001b[0m\u001b[37m\u001b[0m \u001b[1m0s\u001b[0m 9s/step - accuracy: 0.6610 - loss: 0.7675\n",
            "Epoch 7: saving model to /content/drive/My Drive/Colab Notebooks/models/base/model_checkpoints/base.weights.h5\n",
            "\u001b[1m32/32\u001b[0m \u001b[32m━━━━━━━━━━━━━━━━━━━━\u001b[0m\u001b[37m\u001b[0m \u001b[1m293s\u001b[0m 9s/step - accuracy: 0.6613 - loss: 0.7671 - val_accuracy: 0.6769 - val_loss: 0.7220\n",
            "Epoch 8/150\n",
            "\u001b[1m32/32\u001b[0m \u001b[32m━━━━━━━━━━━━━━━━━━━━\u001b[0m\u001b[37m\u001b[0m \u001b[1m0s\u001b[0m 8s/step - accuracy: 0.6599 - loss: 0.7634\n",
            "Epoch 8: saving model to /content/drive/My Drive/Colab Notebooks/models/base/model_checkpoints/base.weights.h5\n",
            "\u001b[1m32/32\u001b[0m \u001b[32m━━━━━━━━━━━━━━━━━━━━\u001b[0m\u001b[37m\u001b[0m \u001b[1m286s\u001b[0m 9s/step - accuracy: 0.6602 - loss: 0.7629 - val_accuracy: 0.6744 - val_loss: 0.7023\n",
            "Epoch 9/150\n",
            "\u001b[1m32/32\u001b[0m \u001b[32m━━━━━━━━━━━━━━━━━━━━\u001b[0m\u001b[37m\u001b[0m \u001b[1m0s\u001b[0m 9s/step - accuracy: 0.6935 - loss: 0.7192\n",
            "Epoch 9: saving model to /content/drive/My Drive/Colab Notebooks/models/base/model_checkpoints/base.weights.h5\n",
            "\u001b[1m32/32\u001b[0m \u001b[32m━━━━━━━━━━━━━━━━━━━━\u001b[0m\u001b[37m\u001b[0m \u001b[1m332s\u001b[0m 9s/step - accuracy: 0.6932 - loss: 0.7197 - val_accuracy: 0.6795 - val_loss: 0.7061\n",
            "Epoch 10/150\n",
            "\u001b[1m32/32\u001b[0m \u001b[32m━━━━━━━━━━━━━━━━━━━━\u001b[0m\u001b[37m\u001b[0m \u001b[1m0s\u001b[0m 8s/step - accuracy: 0.6823 - loss: 0.7420\n",
            "Epoch 10: saving model to /content/drive/My Drive/Colab Notebooks/models/base/model_checkpoints/base.weights.h5\n",
            "\u001b[1m32/32\u001b[0m \u001b[32m━━━━━━━━━━━━━━━━━━━━\u001b[0m\u001b[37m\u001b[0m \u001b[1m313s\u001b[0m 9s/step - accuracy: 0.6822 - loss: 0.7424 - val_accuracy: 0.6769 - val_loss: 0.7483\n",
            "Epoch 11/150\n",
            "\u001b[1m32/32\u001b[0m \u001b[32m━━━━━━━━━━━━━━━━━━━━\u001b[0m\u001b[37m\u001b[0m \u001b[1m0s\u001b[0m 9s/step - accuracy: 0.6737 - loss: 0.7274\n",
            "Epoch 11: saving model to /content/drive/My Drive/Colab Notebooks/models/base/model_checkpoints/base.weights.h5\n",
            "\u001b[1m32/32\u001b[0m \u001b[32m━━━━━━━━━━━━━━━━━━━━\u001b[0m\u001b[37m\u001b[0m \u001b[1m295s\u001b[0m 9s/step - accuracy: 0.6736 - loss: 0.7277 - val_accuracy: 0.6769 - val_loss: 0.7109\n",
            "Epoch 12/150\n",
            "\u001b[1m32/32\u001b[0m \u001b[32m━━━━━━━━━━━━━━━━━━━━\u001b[0m\u001b[37m\u001b[0m \u001b[1m0s\u001b[0m 8s/step - accuracy: 0.6768 - loss: 0.7152\n",
            "Epoch 12: saving model to /content/drive/My Drive/Colab Notebooks/models/base/model_checkpoints/base.weights.h5\n",
            "\u001b[1m32/32\u001b[0m \u001b[32m━━━━━━━━━━━━━━━━━━━━\u001b[0m\u001b[37m\u001b[0m \u001b[1m283s\u001b[0m 9s/step - accuracy: 0.6767 - loss: 0.7154 - val_accuracy: 0.6987 - val_loss: 0.6740\n",
            "Epoch 13/150\n",
            "\u001b[1m32/32\u001b[0m \u001b[32m━━━━━━━━━━━━━━━━━━━━\u001b[0m\u001b[37m\u001b[0m \u001b[1m0s\u001b[0m 8s/step - accuracy: 0.7148 - loss: 0.6841\n",
            "Epoch 13: saving model to /content/drive/My Drive/Colab Notebooks/models/base/model_checkpoints/base.weights.h5\n",
            "\u001b[1m32/32\u001b[0m \u001b[32m━━━━━━━━━━━━━━━━━━━━\u001b[0m\u001b[37m\u001b[0m \u001b[1m286s\u001b[0m 9s/step - accuracy: 0.7141 - loss: 0.6853 - val_accuracy: 0.6872 - val_loss: 0.7038\n",
            "Epoch 14/150\n",
            "\u001b[1m32/32\u001b[0m \u001b[32m━━━━━━━━━━━━━━━━━━━━\u001b[0m\u001b[37m\u001b[0m \u001b[1m0s\u001b[0m 8s/step - accuracy: 0.6848 - loss: 0.7327\n",
            "Epoch 14: saving model to /content/drive/My Drive/Colab Notebooks/models/base/model_checkpoints/base.weights.h5\n",
            "\u001b[1m32/32\u001b[0m \u001b[32m━━━━━━━━━━━━━━━━━━━━\u001b[0m\u001b[37m\u001b[0m \u001b[1m285s\u001b[0m 9s/step - accuracy: 0.6848 - loss: 0.7322 - val_accuracy: 0.6962 - val_loss: 0.6780\n",
            "Epoch 15/150\n",
            "\u001b[1m32/32\u001b[0m \u001b[32m━━━━━━━━━━━━━━━━━━━━\u001b[0m\u001b[37m\u001b[0m \u001b[1m0s\u001b[0m 9s/step - accuracy: 0.6919 - loss: 0.7214\n",
            "Epoch 15: saving model to /content/drive/My Drive/Colab Notebooks/models/base/model_checkpoints/base.weights.h5\n",
            "\u001b[1m32/32\u001b[0m \u001b[32m━━━━━━━━━━━━━━━━━━━━\u001b[0m\u001b[37m\u001b[0m \u001b[1m295s\u001b[0m 9s/step - accuracy: 0.6918 - loss: 0.7213 - val_accuracy: 0.6949 - val_loss: 0.6844\n",
            "Epoch 16/150\n",
            "\u001b[1m32/32\u001b[0m \u001b[32m━━━━━━━━━━━━━━━━━━━━\u001b[0m\u001b[37m\u001b[0m \u001b[1m0s\u001b[0m 8s/step - accuracy: 0.6749 - loss: 0.7280\n",
            "Epoch 16: saving model to /content/drive/My Drive/Colab Notebooks/models/base/model_checkpoints/base.weights.h5\n",
            "\u001b[1m32/32\u001b[0m \u001b[32m━━━━━━━━━━━━━━━━━━━━\u001b[0m\u001b[37m\u001b[0m \u001b[1m289s\u001b[0m 9s/step - accuracy: 0.6755 - loss: 0.7271 - val_accuracy: 0.6923 - val_loss: 0.7438\n",
            "Epoch 17/150\n",
            "\u001b[1m32/32\u001b[0m \u001b[32m━━━━━━━━━━━━━━━━━━━━\u001b[0m\u001b[37m\u001b[0m \u001b[1m0s\u001b[0m 8s/step - accuracy: 0.7036 - loss: 0.6916\n",
            "Epoch 17: saving model to /content/drive/My Drive/Colab Notebooks/models/base/model_checkpoints/base.weights.h5\n",
            "\u001b[1m32/32\u001b[0m \u001b[32m━━━━━━━━━━━━━━━━━━━━\u001b[0m\u001b[37m\u001b[0m \u001b[1m313s\u001b[0m 10s/step - accuracy: 0.7034 - loss: 0.6916 - val_accuracy: 0.6987 - val_loss: 0.6772\n",
            "Epoch 18/150\n",
            "\u001b[1m32/32\u001b[0m \u001b[32m━━━━━━━━━━━━━━━━━━━━\u001b[0m\u001b[37m\u001b[0m \u001b[1m0s\u001b[0m 8s/step - accuracy: 0.6989 - loss: 0.6925\n",
            "Epoch 18: saving model to /content/drive/My Drive/Colab Notebooks/models/base/model_checkpoints/base.weights.h5\n",
            "\u001b[1m32/32\u001b[0m \u001b[32m━━━━━━━━━━━━━━━━━━━━\u001b[0m\u001b[37m\u001b[0m \u001b[1m299s\u001b[0m 9s/step - accuracy: 0.6988 - loss: 0.6928 - val_accuracy: 0.6872 - val_loss: 0.6925\n",
            "Epoch 19/150\n",
            "\u001b[1m32/32\u001b[0m \u001b[32m━━━━━━━━━━━━━━━━━━━━\u001b[0m\u001b[37m\u001b[0m \u001b[1m0s\u001b[0m 8s/step - accuracy: 0.7074 - loss: 0.6706\n",
            "Epoch 19: saving model to /content/drive/My Drive/Colab Notebooks/models/base/model_checkpoints/base.weights.h5\n",
            "\u001b[1m32/32\u001b[0m \u001b[32m━━━━━━━━━━━━━━━━━━━━\u001b[0m\u001b[37m\u001b[0m \u001b[1m310s\u001b[0m 10s/step - accuracy: 0.7072 - loss: 0.6711 - val_accuracy: 0.6897 - val_loss: 0.6970\n",
            "Epoch 20/150\n",
            "\u001b[1m32/32\u001b[0m \u001b[32m━━━━━━━━━━━━━━━━━━━━\u001b[0m\u001b[37m\u001b[0m \u001b[1m0s\u001b[0m 8s/step - accuracy: 0.6945 - loss: 0.6957\n",
            "Epoch 20: saving model to /content/drive/My Drive/Colab Notebooks/models/base/model_checkpoints/base.weights.h5\n",
            "\u001b[1m32/32\u001b[0m \u001b[32m━━━━━━━━━━━━━━━━━━━━\u001b[0m\u001b[37m\u001b[0m \u001b[1m299s\u001b[0m 9s/step - accuracy: 0.6945 - loss: 0.6958 - val_accuracy: 0.6987 - val_loss: 0.6809\n"
          ]
        },
        {
          "data": {
            "text/plain": [
              "<keras.src.callbacks.history.History at 0x7d7b29cbb5d0>"
            ]
          },
          "execution_count": 13,
          "metadata": {},
          "output_type": "execute_result"
        },
        {
          "data": {
            "image/png": "[encoded data removed]",
            "text/plain": [
              "<Figure size 640x480 with 1 Axes>"
            ]
          },
          "metadata": {},
          "output_type": "display_data"
        }
      ],
      "source": [
        "model = Sequential([\n",
        "  data_augmentation,\n",
        "  layers.Rescaling(1./255, input_shape=(image_size, image_size, 3)),\n",
        "  layers.Conv2D(16, 3, padding='same', activation='relu'),\n",
        "  layers.MaxPooling2D(),\n",
        "  layers.Conv2D(32, 3, padding='same', activation='relu'),\n",
        "  layers.MaxPooling2D(),\n",
        "  layers.Conv2D(64, 3, padding='same', activation='relu'),\n",
        "  layers.MaxPooling2D(),\n",
        "  layers.Dropout(0.3),\n",
        "  layers.Flatten(),\n",
        "  layers.Dense(128, activation='relu'),\n",
        "  layers.Dropout(0.3),\n",
        "  layers.Dense(num_classes)\n",
        "])\n",
        "train_save_plot_model(model, epochs, patience, df_train, df_val, 'base')\n"
      ]
    },
    {
      "cell_type": "code",
      "execution_count": null,
      "id": "ZR9kds1OgU_G",
      "metadata": {
        "colab": {
          "background_save": true,
          "base_uri": "https://localhost:8080/"
        },
        "id": "ZR9kds1OgU_G",
        "outputId": "98183d06-69c8-429e-d204-2b46de60feeb"
      },
      "outputs": [
        {
          "name": "stdout",
          "output_type": "stream",
          "text": [
            "Epoch 1/150\n",
            "\u001b[1m32/32\u001b[0m \u001b[32m━━━━━━━━━━━━━━━━━━━━\u001b[0m\u001b[37m\u001b[0m \u001b[1m0s\u001b[0m 81s/step - accuracy: 0.4378 - loss: 6.3146  \n",
            "Epoch 1: saving model to /content/drive/My Drive/Colab Notebooks/models/VGG16_base/model_checkpoints/VGG16_base.weights.h5\n",
            "\u001b[1m32/32\u001b[0m \u001b[32m━━━━━━━━━━━━━━━━━━━━\u001b[0m\u001b[37m\u001b[0m \u001b[1m3627s\u001b[0m 103s/step - accuracy: 0.4382 - loss: 6.2256 - val_accuracy: 0.5397 - val_loss: 1.2965\n",
            "Epoch 2/150\n",
            "\u001b[1m32/32\u001b[0m \u001b[32m━━━━━━━━━━━━━━━━━━━━\u001b[0m\u001b[37m\u001b[0m \u001b[1m0s\u001b[0m 81s/step - accuracy: 0.5413 - loss: 1.2817  \n",
            "Epoch 2: saving model to /content/drive/My Drive/Colab Notebooks/models/VGG16_base/model_checkpoints/VGG16_base.weights.h5\n",
            "\u001b[1m32/32\u001b[0m \u001b[32m━━━━━━━━━━━━━━━━━━━━\u001b[0m\u001b[37m\u001b[0m \u001b[1m3262s\u001b[0m 102s/step - accuracy: 0.5415 - loss: 1.2809 - val_accuracy: 0.5397 - val_loss: 1.1414\n",
            "Epoch 3/150\n",
            "\u001b[1m 3/32\u001b[0m \u001b[32m━\u001b[0m\u001b[37m━━━━━━━━━━━━━━━━━━━\u001b[0m \u001b[1m39:55\u001b[0m 83s/step - accuracy: 0.5783 - loss: 1.2031"
          ]
        }
      ],
      "source": [
        "# pretrained model (VGG)\n",
        "VGG = keras.applications.VGG16(weights='imagenet', include_top=False, input_shape = (image_size, image_size, 3))\n",
        "VGG.trainable=False\n",
        "\n",
        "inputs = keras.Input(shape=(image_size, image_size, 3))\n",
        "x = VGG(inputs, training=False)\n",
        "x = layers.Flatten()(x)\n",
        "x = layers.Dense(32, activation='relu')(x)\n",
        "x = layers.Dropout(0.3)(x)\n",
        "outputs = layers.Dense(num_classes)(x)\n",
        "\n",
        "VGGmodel = keras.Model(inputs, outputs)\n",
        "\n",
        "train_save_plot_model(VGGmodel, epochs, patience, df_train, df_val, 'VGG16_base')\n",
        "\n",
        "# this suffers from pretty bad overfitting - can't quite figure out how to fix it"
      ]
    },
    {
      "cell_type": "code",
      "execution_count": null,
      "id": "O4Rqp-k3gidn",
      "metadata": {
        "colab": {
          "base_uri": "https://localhost:8080/",
          "height": 1000
        },
        "id": "O4Rqp-k3gidn",
        "outputId": "81733f85-d472-4820-c526-b8068dbc592e"
      },
      "outputs": [
        {
          "name": "stdout",
          "output_type": "stream",
          "text": [
            "Epoch 1/150\n",
            "\u001b[1m32/32\u001b[0m \u001b[32m━━━━━━━━━━━━━━━━━━━━\u001b[0m\u001b[37m\u001b[0m \u001b[1m0s\u001b[0m 9s/step - accuracy: 0.4651 - loss: 1.2138\n",
            "Epoch 1: saving model to /content/drive/My Drive/Colab Notebooks/models/more_dropout/model_checkpoints/more_dropout.weights.h5\n",
            "\u001b[1m32/32\u001b[0m \u001b[32m━━━━━━━━━━━━━━━━━━━━\u001b[0m\u001b[37m\u001b[0m \u001b[1m777s\u001b[0m 13s/step - accuracy: 0.4675 - loss: 1.2095 - val_accuracy: 0.6321 - val_loss: 0.8427\n",
            "Epoch 2/150\n",
            "\u001b[1m32/32\u001b[0m \u001b[32m━━━━━━━━━━━━━━━━━━━━\u001b[0m\u001b[37m\u001b[0m \u001b[1m0s\u001b[0m 9s/step - accuracy: 0.6141 - loss: 0.9007\n",
            "Epoch 2: saving model to /content/drive/My Drive/Colab Notebooks/models/more_dropout/model_checkpoints/more_dropout.weights.h5\n",
            "\u001b[1m32/32\u001b[0m \u001b[32m━━━━━━━━━━━━━━━━━━━━\u001b[0m\u001b[37m\u001b[0m \u001b[1m324s\u001b[0m 9s/step - accuracy: 0.6143 - loss: 0.9000 - val_accuracy: 0.6615 - val_loss: 0.7850\n",
            "Epoch 3/150\n",
            "\u001b[1m32/32\u001b[0m \u001b[32m━━━━━━━━━━━━━━━━━━━━\u001b[0m\u001b[37m\u001b[0m \u001b[1m0s\u001b[0m 8s/step - accuracy: 0.6322 - loss: 0.8354\n",
            "Epoch 3: saving model to /content/drive/My Drive/Colab Notebooks/models/more_dropout/model_checkpoints/more_dropout.weights.h5\n",
            "\u001b[1m32/32\u001b[0m \u001b[32m━━━━━━━━━━━━━━━━━━━━\u001b[0m\u001b[37m\u001b[0m \u001b[1m288s\u001b[0m 9s/step - accuracy: 0.6328 - loss: 0.8348 - val_accuracy: 0.6654 - val_loss: 0.7335\n",
            "Epoch 4/150\n",
            "\u001b[1m32/32\u001b[0m \u001b[32m━━━━━━━━━━━━━━━━━━━━\u001b[0m\u001b[37m\u001b[0m \u001b[1m0s\u001b[0m 9s/step - accuracy: 0.6388 - loss: 0.8149\n",
            "Epoch 4: saving model to /content/drive/My Drive/Colab Notebooks/models/more_dropout/model_checkpoints/more_dropout.weights.h5\n",
            "\u001b[1m32/32\u001b[0m \u001b[32m━━━━━━━━━━━━━━━━━━━━\u001b[0m\u001b[37m\u001b[0m \u001b[1m329s\u001b[0m 9s/step - accuracy: 0.6390 - loss: 0.8142 - val_accuracy: 0.6744 - val_loss: 0.7275\n",
            "Epoch 5/150\n",
            "\u001b[1m32/32\u001b[0m \u001b[32m━━━━━━━━━━━━━━━━━━━━\u001b[0m\u001b[37m\u001b[0m \u001b[1m0s\u001b[0m 8s/step - accuracy: 0.6418 - loss: 0.7701\n",
            "Epoch 5: saving model to /content/drive/My Drive/Colab Notebooks/models/more_dropout/model_checkpoints/more_dropout.weights.h5\n",
            "\u001b[1m32/32\u001b[0m \u001b[32m━━━━━━━━━━━━━━━━━━━━\u001b[0m\u001b[37m\u001b[0m \u001b[1m285s\u001b[0m 9s/step - accuracy: 0.6421 - loss: 0.7703 - val_accuracy: 0.6667 - val_loss: 0.7113\n",
            "Epoch 6/150\n",
            "\u001b[1m32/32\u001b[0m \u001b[32m━━━━━━━━━━━━━━━━━━━━\u001b[0m\u001b[37m\u001b[0m \u001b[1m0s\u001b[0m 9s/step - accuracy: 0.6428 - loss: 0.7933\n",
            "Epoch 6: saving model to /content/drive/My Drive/Colab Notebooks/models/more_dropout/model_checkpoints/more_dropout.weights.h5\n",
            "\u001b[1m32/32\u001b[0m \u001b[32m━━━━━━━━━━━━━━━━━━━━\u001b[0m\u001b[37m\u001b[0m \u001b[1m302s\u001b[0m 9s/step - accuracy: 0.6432 - loss: 0.7926 - val_accuracy: 0.6872 - val_loss: 0.7067\n",
            "Epoch 7/150\n",
            "\u001b[1m32/32\u001b[0m \u001b[32m━━━━━━━━━━━━━━━━━━━━\u001b[0m\u001b[37m\u001b[0m \u001b[1m0s\u001b[0m 8s/step - accuracy: 0.6604 - loss: 0.7702\n",
            "Epoch 7: saving model to /content/drive/My Drive/Colab Notebooks/models/more_dropout/model_checkpoints/more_dropout.weights.h5\n",
            "\u001b[1m32/32\u001b[0m \u001b[32m━━━━━━━━━━━━━━━━━━━━\u001b[0m\u001b[37m\u001b[0m \u001b[1m289s\u001b[0m 9s/step - accuracy: 0.6606 - loss: 0.7699 - val_accuracy: 0.6885 - val_loss: 0.7010\n",
            "Epoch 8/150\n",
            "\u001b[1m32/32\u001b[0m \u001b[32m━━━━━━━━━━━━━━━━━━━━\u001b[0m\u001b[37m\u001b[0m \u001b[1m0s\u001b[0m 8s/step - accuracy: 0.6677 - loss: 0.7327\n",
            "Epoch 8: saving model to /content/drive/My Drive/Colab Notebooks/models/more_dropout/model_checkpoints/more_dropout.weights.h5\n",
            "\u001b[1m32/32\u001b[0m \u001b[32m━━━━━━━━━━━━━━━━━━━━\u001b[0m\u001b[37m\u001b[0m \u001b[1m288s\u001b[0m 9s/step - accuracy: 0.6677 - loss: 0.7332 - val_accuracy: 0.6641 - val_loss: 0.7633\n",
            "Epoch 9/150\n",
            "\u001b[1m32/32\u001b[0m \u001b[32m━━━━━━━━━━━━━━━━━━━━\u001b[0m\u001b[37m\u001b[0m \u001b[1m0s\u001b[0m 9s/step - accuracy: 0.6598 - loss: 0.7834\n",
            "Epoch 9: saving model to /content/drive/My Drive/Colab Notebooks/models/more_dropout/model_checkpoints/more_dropout.weights.h5\n",
            "\u001b[1m32/32\u001b[0m \u001b[32m━━━━━━━━━━━━━━━━━━━━\u001b[0m\u001b[37m\u001b[0m \u001b[1m296s\u001b[0m 9s/step - accuracy: 0.6597 - loss: 0.7831 - val_accuracy: 0.6910 - val_loss: 0.7166\n",
            "Epoch 10/150\n",
            "\u001b[1m32/32\u001b[0m \u001b[32m━━━━━━━━━━━━━━━━━━━━\u001b[0m\u001b[37m\u001b[0m \u001b[1m0s\u001b[0m 8s/step - accuracy: 0.6802 - loss: 0.7293\n",
            "Epoch 10: saving model to /content/drive/My Drive/Colab Notebooks/models/more_dropout/model_checkpoints/more_dropout.weights.h5\n",
            "\u001b[1m32/32\u001b[0m \u001b[32m━━━━━━━━━━━━━━━━━━━━\u001b[0m\u001b[37m\u001b[0m \u001b[1m290s\u001b[0m 9s/step - accuracy: 0.6800 - loss: 0.7297 - val_accuracy: 0.6872 - val_loss: 0.6951\n",
            "Epoch 11/150\n",
            "\u001b[1m32/32\u001b[0m \u001b[32m━━━━━━━━━━━━━━━━━━━━\u001b[0m\u001b[37m\u001b[0m \u001b[1m0s\u001b[0m 8s/step - accuracy: 0.6846 - loss: 0.7421\n",
            "Epoch 11: saving model to /content/drive/My Drive/Colab Notebooks/models/more_dropout/model_checkpoints/more_dropout.weights.h5\n",
            "\u001b[1m32/32\u001b[0m \u001b[32m━━━━━━━━━━━━━━━━━━━━\u001b[0m\u001b[37m\u001b[0m \u001b[1m326s\u001b[0m 9s/step - accuracy: 0.6846 - loss: 0.7416 - val_accuracy: 0.6987 - val_loss: 0.6982\n",
            "Epoch 12/150\n",
            "\u001b[1m32/32\u001b[0m \u001b[32m━━━━━━━━━━━━━━━━━━━━\u001b[0m\u001b[37m\u001b[0m \u001b[1m0s\u001b[0m 8s/step - accuracy: 0.6697 - loss: 0.7176\n",
            "Epoch 12: saving model to /content/drive/My Drive/Colab Notebooks/models/more_dropout/model_checkpoints/more_dropout.weights.h5\n",
            "\u001b[1m32/32\u001b[0m \u001b[32m━━━━━━━━━━━━━━━━━━━━\u001b[0m\u001b[37m\u001b[0m \u001b[1m287s\u001b[0m 9s/step - accuracy: 0.6698 - loss: 0.7182 - val_accuracy: 0.6923 - val_loss: 0.6986\n",
            "Epoch 13/150\n",
            "\u001b[1m32/32\u001b[0m \u001b[32m━━━━━━━━━━━━━━━━━━━━\u001b[0m\u001b[37m\u001b[0m \u001b[1m0s\u001b[0m 8s/step - accuracy: 0.6836 - loss: 0.7448\n",
            "Epoch 13: saving model to /content/drive/My Drive/Colab Notebooks/models/more_dropout/model_checkpoints/more_dropout.weights.h5\n",
            "\u001b[1m32/32\u001b[0m \u001b[32m━━━━━━━━━━━━━━━━━━━━\u001b[0m\u001b[37m\u001b[0m \u001b[1m325s\u001b[0m 9s/step - accuracy: 0.6837 - loss: 0.7448 - val_accuracy: 0.6859 - val_loss: 0.7171\n",
            "Epoch 14/150\n",
            "\u001b[1m32/32\u001b[0m \u001b[32m━━━━━━━━━━━━━━━━━━━━\u001b[0m\u001b[37m\u001b[0m \u001b[1m0s\u001b[0m 8s/step - accuracy: 0.6777 - loss: 0.7337\n",
            "Epoch 14: saving model to /content/drive/My Drive/Colab Notebooks/models/more_dropout/model_checkpoints/more_dropout.weights.h5\n",
            "\u001b[1m32/32\u001b[0m \u001b[32m━━━━━━━━━━━━━━━━━━━━\u001b[0m\u001b[37m\u001b[0m \u001b[1m288s\u001b[0m 9s/step - accuracy: 0.6778 - loss: 0.7337 - val_accuracy: 0.6782 - val_loss: 0.7324\n",
            "Epoch 15/150\n",
            "\u001b[1m32/32\u001b[0m \u001b[32m━━━━━━━━━━━━━━━━━━━━\u001b[0m\u001b[37m\u001b[0m \u001b[1m0s\u001b[0m 9s/step - accuracy: 0.6657 - loss: 0.7628\n",
            "Epoch 15: saving model to /content/drive/My Drive/Colab Notebooks/models/more_dropout/model_checkpoints/more_dropout.weights.h5\n",
            "\u001b[1m32/32\u001b[0m \u001b[32m━━━━━━━━━━━━━━━━━━━━\u001b[0m\u001b[37m\u001b[0m \u001b[1m295s\u001b[0m 9s/step - accuracy: 0.6662 - loss: 0.7618 - val_accuracy: 0.7038 - val_loss: 0.6885\n",
            "Epoch 16/150\n",
            "\u001b[1m32/32\u001b[0m \u001b[32m━━━━━━━━━━━━━━━━━━━━\u001b[0m\u001b[37m\u001b[0m \u001b[1m0s\u001b[0m 8s/step - accuracy: 0.6954 - loss: 0.7249\n",
            "Epoch 16: saving model to /content/drive/My Drive/Colab Notebooks/models/more_dropout/model_checkpoints/more_dropout.weights.h5\n",
            "\u001b[1m32/32\u001b[0m \u001b[32m━━━━━━━━━━━━━━━━━━━━\u001b[0m\u001b[37m\u001b[0m \u001b[1m285s\u001b[0m 9s/step - accuracy: 0.6954 - loss: 0.7244 - val_accuracy: 0.7128 - val_loss: 0.6776\n",
            "Epoch 17/150\n",
            "\u001b[1m32/32\u001b[0m \u001b[32m━━━━━━━━━━━━━━━━━━━━\u001b[0m\u001b[37m\u001b[0m \u001b[1m0s\u001b[0m 9s/step - accuracy: 0.6974 - loss: 0.7063\n",
            "Epoch 17: saving model to /content/drive/My Drive/Colab Notebooks/models/more_dropout/model_checkpoints/more_dropout.weights.h5\n",
            "\u001b[1m32/32\u001b[0m \u001b[32m━━━━━━━━━━━━━━━━━━━━\u001b[0m\u001b[37m\u001b[0m \u001b[1m294s\u001b[0m 9s/step - accuracy: 0.6973 - loss: 0.7065 - val_accuracy: 0.7103 - val_loss: 0.7038\n",
            "Epoch 18/150\n",
            "\u001b[1m32/32\u001b[0m \u001b[32m━━━━━━━━━━━━━━━━━━━━\u001b[0m\u001b[37m\u001b[0m \u001b[1m0s\u001b[0m 8s/step - accuracy: 0.6755 - loss: 0.7436\n",
            "Epoch 18: saving model to /content/drive/My Drive/Colab Notebooks/models/more_dropout/model_checkpoints/more_dropout.weights.h5\n",
            "\u001b[1m32/32\u001b[0m \u001b[32m━━━━━━━━━━━━━━━━━━━━\u001b[0m\u001b[37m\u001b[0m \u001b[1m288s\u001b[0m 9s/step - accuracy: 0.6759 - loss: 0.7428 - val_accuracy: 0.7051 - val_loss: 0.6794\n",
            "Epoch 19/150\n",
            "\u001b[1m32/32\u001b[0m \u001b[32m━━━━━━━━━━━━━━━━━━━━\u001b[0m\u001b[37m\u001b[0m \u001b[1m0s\u001b[0m 9s/step - accuracy: 0.6994 - loss: 0.7033\n",
            "Epoch 19: saving model to /content/drive/My Drive/Colab Notebooks/models/more_dropout/model_checkpoints/more_dropout.weights.h5\n",
            "\u001b[1m32/32\u001b[0m \u001b[32m━━━━━━━━━━━━━━━━━━━━\u001b[0m\u001b[37m\u001b[0m \u001b[1m294s\u001b[0m 9s/step - accuracy: 0.6995 - loss: 0.7033 - val_accuracy: 0.6910 - val_loss: 0.6943\n",
            "Epoch 20/150\n",
            "\u001b[1m32/32\u001b[0m \u001b[32m━━━━━━━━━━━━━━━━━━━━\u001b[0m\u001b[37m\u001b[0m \u001b[1m0s\u001b[0m 8s/step - accuracy: 0.6920 - loss: 0.6908\n",
            "Epoch 20: saving model to /content/drive/My Drive/Colab Notebooks/models/more_dropout/model_checkpoints/more_dropout.weights.h5\n",
            "\u001b[1m32/32\u001b[0m \u001b[32m━━━━━━━━━━━━━━━━━━━━\u001b[0m\u001b[37m\u001b[0m \u001b[1m291s\u001b[0m 9s/step - accuracy: 0.6916 - loss: 0.6916 - val_accuracy: 0.6769 - val_loss: 0.7070\n",
            "Epoch 21/150\n",
            "\u001b[1m32/32\u001b[0m \u001b[32m━━━━━━━━━━━━━━━━━━━━\u001b[0m\u001b[37m\u001b[0m \u001b[1m0s\u001b[0m 9s/step - accuracy: 0.6711 - loss: 0.7553\n",
            "Epoch 21: saving model to /content/drive/My Drive/Colab Notebooks/models/more_dropout/model_checkpoints/more_dropout.weights.h5\n",
            "\u001b[1m32/32\u001b[0m \u001b[32m━━━━━━━━━━━━━━━━━━━━\u001b[0m\u001b[37m\u001b[0m \u001b[1m329s\u001b[0m 9s/step - accuracy: 0.6716 - loss: 0.7544 - val_accuracy: 0.7103 - val_loss: 0.6876\n",
            "Epoch 22/150\n",
            "\u001b[1m32/32\u001b[0m \u001b[32m━━━━━━━━━━━━━━━━━━━━\u001b[0m\u001b[37m\u001b[0m \u001b[1m0s\u001b[0m 8s/step - accuracy: 0.6771 - loss: 0.7276\n",
            "Epoch 22: saving model to /content/drive/My Drive/Colab Notebooks/models/more_dropout/model_checkpoints/more_dropout.weights.h5\n",
            "\u001b[1m32/32\u001b[0m \u001b[32m━━━━━━━━━━━━━━━━━━━━\u001b[0m\u001b[37m\u001b[0m \u001b[1m286s\u001b[0m 9s/step - accuracy: 0.6773 - loss: 0.7269 - val_accuracy: 0.7077 - val_loss: 0.7049\n",
            "Epoch 23/150\n",
            "\u001b[1m32/32\u001b[0m \u001b[32m━━━━━━━━━━━━━━━━━━━━\u001b[0m\u001b[37m\u001b[0m \u001b[1m0s\u001b[0m 9s/step - accuracy: 0.7147 - loss: 0.6802\n",
            "Epoch 23: saving model to /content/drive/My Drive/Colab Notebooks/models/more_dropout/model_checkpoints/more_dropout.weights.h5\n",
            "\u001b[1m32/32\u001b[0m \u001b[32m━━━━━━━━━━━━━━━━━━━━\u001b[0m\u001b[37m\u001b[0m \u001b[1m329s\u001b[0m 9s/step - accuracy: 0.7143 - loss: 0.6806 - val_accuracy: 0.7103 - val_loss: 0.6889\n",
            "Epoch 24/150\n",
            "\u001b[1m32/32\u001b[0m \u001b[32m━━━━━━━━━━━━━━━━━━━━\u001b[0m\u001b[37m\u001b[0m \u001b[1m0s\u001b[0m 8s/step - accuracy: 0.7054 - loss: 0.7026\n",
            "Epoch 24: saving model to /content/drive/My Drive/Colab Notebooks/models/more_dropout/model_checkpoints/more_dropout.weights.h5\n",
            "\u001b[1m32/32\u001b[0m \u001b[32m━━━━━━━━━━━━━━━━━━━━\u001b[0m\u001b[37m\u001b[0m \u001b[1m317s\u001b[0m 9s/step - accuracy: 0.7053 - loss: 0.7026 - val_accuracy: 0.7115 - val_loss: 0.6719\n",
            "Epoch 25/150\n",
            "\u001b[1m32/32\u001b[0m \u001b[32m━━━━━━━━━━━━━━━━━━━━\u001b[0m\u001b[37m\u001b[0m \u001b[1m0s\u001b[0m 8s/step - accuracy: 0.7070 - loss: 0.6753\n",
            "Epoch 25: saving model to /content/drive/My Drive/Colab Notebooks/models/more_dropout/model_checkpoints/more_dropout.weights.h5\n",
            "\u001b[1m32/32\u001b[0m \u001b[32m━━━━━━━━━━━━━━━━━━━━\u001b[0m\u001b[37m\u001b[0m \u001b[1m291s\u001b[0m 9s/step - accuracy: 0.7067 - loss: 0.6758 - val_accuracy: 0.7064 - val_loss: 0.6820\n",
            "Epoch 26/150\n",
            "\u001b[1m32/32\u001b[0m \u001b[32m━━━━━━━━━━━━━━━━━━━━\u001b[0m\u001b[37m\u001b[0m \u001b[1m0s\u001b[0m 8s/step - accuracy: 0.7097 - loss: 0.6868\n",
            "Epoch 26: saving model to /content/drive/My Drive/Colab Notebooks/models/more_dropout/model_checkpoints/more_dropout.weights.h5\n",
            "\u001b[1m32/32\u001b[0m \u001b[32m━━━━━━━━━━━━━━━━━━━━\u001b[0m\u001b[37m\u001b[0m \u001b[1m315s\u001b[0m 9s/step - accuracy: 0.7095 - loss: 0.6873 - val_accuracy: 0.7154 - val_loss: 0.6931\n",
            "Epoch 27/150\n",
            "\u001b[1m32/32\u001b[0m \u001b[32m━━━━━━━━━━━━━━━━━━━━\u001b[0m\u001b[37m\u001b[0m \u001b[1m0s\u001b[0m 9s/step - accuracy: 0.7072 - loss: 0.6911\n",
            "Epoch 27: saving model to /content/drive/My Drive/Colab Notebooks/models/more_dropout/model_checkpoints/more_dropout.weights.h5\n",
            "\u001b[1m32/32\u001b[0m \u001b[32m━━━━━━━━━━━━━━━━━━━━\u001b[0m\u001b[37m\u001b[0m \u001b[1m295s\u001b[0m 9s/step - accuracy: 0.7068 - loss: 0.6916 - val_accuracy: 0.7038 - val_loss: 0.6858\n",
            "Epoch 28/150\n",
            "\u001b[1m32/32\u001b[0m \u001b[32m━━━━━━━━━━━━━━━━━━━━\u001b[0m\u001b[37m\u001b[0m \u001b[1m0s\u001b[0m 8s/step - accuracy: 0.7030 - loss: 0.6951\n",
            "Epoch 28: saving model to /content/drive/My Drive/Colab Notebooks/models/more_dropout/model_checkpoints/more_dropout.weights.h5\n",
            "\u001b[1m32/32\u001b[0m \u001b[32m━━━━━━━━━━━━━━━━━━━━\u001b[0m\u001b[37m\u001b[0m \u001b[1m285s\u001b[0m 9s/step - accuracy: 0.7031 - loss: 0.6950 - val_accuracy: 0.7103 - val_loss: 0.6797\n",
            "Epoch 29/150\n",
            "\u001b[1m32/32\u001b[0m \u001b[32m━━━━━━━━━━━━━━━━━━━━\u001b[0m\u001b[37m\u001b[0m \u001b[1m0s\u001b[0m 9s/step - accuracy: 0.6991 - loss: 0.6842\n",
            "Epoch 29: saving model to /content/drive/My Drive/Colab Notebooks/models/more_dropout/model_checkpoints/more_dropout.weights.h5\n",
            "\u001b[1m32/32\u001b[0m \u001b[32m━━━━━━━━━━━━━━━━━━━━\u001b[0m\u001b[37m\u001b[0m \u001b[1m294s\u001b[0m 9s/step - accuracy: 0.6992 - loss: 0.6844 - val_accuracy: 0.7256 - val_loss: 0.6680\n",
            "Epoch 30/150\n",
            "\u001b[1m32/32\u001b[0m \u001b[32m━━━━━━━━━━━━━━━━━━━━\u001b[0m\u001b[37m\u001b[0m \u001b[1m0s\u001b[0m 8s/step - accuracy: 0.7199 - loss: 0.6528\n",
            "Epoch 30: saving model to /content/drive/My Drive/Colab Notebooks/models/more_dropout/model_checkpoints/more_dropout.weights.h5\n",
            "\u001b[1m32/32\u001b[0m \u001b[32m━━━━━━━━━━━━━━━━━━━━\u001b[0m\u001b[37m\u001b[0m \u001b[1m307s\u001b[0m 10s/step - accuracy: 0.7194 - loss: 0.6537 - val_accuracy: 0.7167 - val_loss: 0.6789\n",
            "Epoch 31/150\n",
            "\u001b[1m32/32\u001b[0m \u001b[32m━━━━━━━━━━━━━━━━━━━━\u001b[0m\u001b[37m\u001b[0m \u001b[1m0s\u001b[0m 9s/step - accuracy: 0.7074 - loss: 0.6820\n",
            "Epoch 31: saving model to /content/drive/My Drive/Colab Notebooks/models/more_dropout/model_checkpoints/more_dropout.weights.h5\n",
            "\u001b[1m32/32\u001b[0m \u001b[32m━━━━━━━━━━━━━━━━━━━━\u001b[0m\u001b[37m\u001b[0m \u001b[1m293s\u001b[0m 9s/step - accuracy: 0.7074 - loss: 0.6820 - val_accuracy: 0.7128 - val_loss: 0.6690\n",
            "Epoch 32/150\n",
            "\u001b[1m32/32\u001b[0m \u001b[32m━━━━━━━━━━━━━━━━━━━━\u001b[0m\u001b[37m\u001b[0m \u001b[1m0s\u001b[0m 8s/step - accuracy: 0.7174 - loss: 0.6647\n",
            "Epoch 32: saving model to /content/drive/My Drive/Colab Notebooks/models/more_dropout/model_checkpoints/more_dropout.weights.h5\n",
            "\u001b[1m32/32\u001b[0m \u001b[32m━━━━━━━━━━━━━━━━━━━━\u001b[0m\u001b[37m\u001b[0m \u001b[1m289s\u001b[0m 9s/step - accuracy: 0.7173 - loss: 0.6653 - val_accuracy: 0.7038 - val_loss: 0.6898\n",
            "Epoch 33/150\n",
            "\u001b[1m32/32\u001b[0m \u001b[32m━━━━━━━━━━━━━━━━━━━━\u001b[0m\u001b[37m\u001b[0m \u001b[1m0s\u001b[0m 8s/step - accuracy: 0.7211 - loss: 0.6672\n",
            "Epoch 33: saving model to /content/drive/My Drive/Colab Notebooks/models/more_dropout/model_checkpoints/more_dropout.weights.h5\n",
            "\u001b[1m32/32\u001b[0m \u001b[32m━━━━━━━━━━━━━━━━━━━━\u001b[0m\u001b[37m\u001b[0m \u001b[1m292s\u001b[0m 9s/step - accuracy: 0.7210 - loss: 0.6674 - val_accuracy: 0.7205 - val_loss: 0.6727\n",
            "Epoch 34/150\n",
            "\u001b[1m32/32\u001b[0m \u001b[32m━━━━━━━━━━━━━━━━━━━━\u001b[0m\u001b[37m\u001b[0m \u001b[1m0s\u001b[0m 8s/step - accuracy: 0.7255 - loss: 0.6463\n",
            "Epoch 34: saving model to /content/drive/My Drive/Colab Notebooks/models/more_dropout/model_checkpoints/more_dropout.weights.h5\n",
            "\u001b[1m32/32\u001b[0m \u001b[32m━━━━━━━━━━━━━━━━━━━━\u001b[0m\u001b[37m\u001b[0m \u001b[1m284s\u001b[0m 9s/step - accuracy: 0.7248 - loss: 0.6474 - val_accuracy: 0.7051 - val_loss: 0.7182\n",
            "Epoch 35/150\n",
            "\u001b[1m32/32\u001b[0m \u001b[32m━━━━━━━━━━━━━━━━━━━━\u001b[0m\u001b[37m\u001b[0m \u001b[1m0s\u001b[0m 9s/step - accuracy: 0.7202 - loss: 0.6693\n",
            "Epoch 35: saving model to /content/drive/My Drive/Colab Notebooks/models/more_dropout/model_checkpoints/more_dropout.weights.h5\n",
            "\u001b[1m32/32\u001b[0m \u001b[32m━━━━━━━━━━━━━━━━━━━━\u001b[0m\u001b[37m\u001b[0m \u001b[1m295s\u001b[0m 9s/step - accuracy: 0.7199 - loss: 0.6693 - val_accuracy: 0.7167 - val_loss: 0.6558\n",
            "Epoch 36/150\n",
            "\u001b[1m32/32\u001b[0m \u001b[32m━━━━━━━━━━━━━━━━━━━━\u001b[0m\u001b[37m\u001b[0m \u001b[1m0s\u001b[0m 8s/step - accuracy: 0.7060 - loss: 0.6626\n",
            "Epoch 36: saving model to /content/drive/My Drive/Colab Notebooks/models/more_dropout/model_checkpoints/more_dropout.weights.h5\n",
            "\u001b[1m32/32\u001b[0m \u001b[32m━━━━━━━━━━━━━━━━━━━━\u001b[0m\u001b[37m\u001b[0m \u001b[1m285s\u001b[0m 9s/step - accuracy: 0.7061 - loss: 0.6630 - val_accuracy: 0.7077 - val_loss: 0.6877\n",
            "Epoch 37/150\n",
            "\u001b[1m32/32\u001b[0m \u001b[32m━━━━━━━━━━━━━━━━━━━━\u001b[0m\u001b[37m\u001b[0m \u001b[1m0s\u001b[0m 8s/step - accuracy: 0.7132 - loss: 0.6725\n",
            "Epoch 37: saving model to /content/drive/My Drive/Colab Notebooks/models/more_dropout/model_checkpoints/more_dropout.weights.h5\n",
            "\u001b[1m32/32\u001b[0m \u001b[32m━━━━━━━━━━━━━━━━━━━━\u001b[0m\u001b[37m\u001b[0m \u001b[1m294s\u001b[0m 9s/step - accuracy: 0.7133 - loss: 0.6724 - val_accuracy: 0.7051 - val_loss: 0.6863\n",
            "Epoch 38/150\n",
            "\u001b[1m32/32\u001b[0m \u001b[32m━━━━━━━━━━━━━━━━━━━━\u001b[0m\u001b[37m\u001b[0m \u001b[1m0s\u001b[0m 8s/step - accuracy: 0.7059 - loss: 0.6722\n",
            "Epoch 38: saving model to /content/drive/My Drive/Colab Notebooks/models/more_dropout/model_checkpoints/more_dropout.weights.h5\n",
            "\u001b[1m32/32\u001b[0m \u001b[32m━━━━━━━━━━━━━━━━━━━━\u001b[0m\u001b[37m\u001b[0m \u001b[1m287s\u001b[0m 9s/step - accuracy: 0.7060 - loss: 0.6722 - val_accuracy: 0.7141 - val_loss: 0.6621\n",
            "Epoch 39/150\n",
            "\u001b[1m32/32\u001b[0m \u001b[32m━━━━━━━━━━━━━━━━━━━━\u001b[0m\u001b[37m\u001b[0m \u001b[1m0s\u001b[0m 8s/step - accuracy: 0.7210 - loss: 0.6546\n",
            "Epoch 39: saving model to /content/drive/My Drive/Colab Notebooks/models/more_dropout/model_checkpoints/more_dropout.weights.h5\n",
            "\u001b[1m32/32\u001b[0m \u001b[32m━━━━━━━━━━━━━━━━━━━━\u001b[0m\u001b[37m\u001b[0m \u001b[1m330s\u001b[0m 9s/step - accuracy: 0.7207 - loss: 0.6550 - val_accuracy: 0.7154 - val_loss: 0.6699\n",
            "Epoch 40/150\n",
            "\u001b[1m32/32\u001b[0m \u001b[32m━━━━━━━━━━━━━━━━━━━━\u001b[0m\u001b[37m\u001b[0m \u001b[1m0s\u001b[0m 8s/step - accuracy: 0.7214 - loss: 0.6591\n",
            "Epoch 40: saving model to /content/drive/My Drive/Colab Notebooks/models/more_dropout/model_checkpoints/more_dropout.weights.h5\n",
            "\u001b[1m32/32\u001b[0m \u001b[32m━━━━━━━━━━━━━━━━━━━━\u001b[0m\u001b[37m\u001b[0m \u001b[1m311s\u001b[0m 9s/step - accuracy: 0.7213 - loss: 0.6590 - val_accuracy: 0.7359 - val_loss: 0.6710\n",
            "Epoch 41/150\n",
            "\u001b[1m32/32\u001b[0m \u001b[32m━━━━━━━━━━━━━━━━━━━━\u001b[0m\u001b[37m\u001b[0m \u001b[1m0s\u001b[0m 8s/step - accuracy: 0.7228 - loss: 0.6713\n",
            "Epoch 41: saving model to /content/drive/My Drive/Colab Notebooks/models/more_dropout/model_checkpoints/more_dropout.weights.h5\n",
            "\u001b[1m32/32\u001b[0m \u001b[32m━━━━━━━━━━━━━━━━━━━━\u001b[0m\u001b[37m\u001b[0m \u001b[1m329s\u001b[0m 9s/step - accuracy: 0.7230 - loss: 0.6709 - val_accuracy: 0.7141 - val_loss: 0.6939\n",
            "Epoch 42/150\n",
            "\u001b[1m32/32\u001b[0m \u001b[32m━━━━━━━━━━━━━━━━━━━━\u001b[0m\u001b[37m\u001b[0m \u001b[1m0s\u001b[0m 8s/step - accuracy: 0.7055 - loss: 0.6668\n",
            "Epoch 42: saving model to /content/drive/My Drive/Colab Notebooks/models/more_dropout/model_checkpoints/more_dropout.weights.h5\n",
            "\u001b[1m32/32\u001b[0m \u001b[32m━━━━━━━━━━━━━━━━━━━━\u001b[0m\u001b[37m\u001b[0m \u001b[1m284s\u001b[0m 9s/step - accuracy: 0.7058 - loss: 0.6663 - val_accuracy: 0.7282 - val_loss: 0.6551\n",
            "Epoch 43/150\n",
            "\u001b[1m32/32\u001b[0m \u001b[32m━━━━━━━━━━━━━━━━━━━━\u001b[0m\u001b[37m\u001b[0m \u001b[1m0s\u001b[0m 8s/step - accuracy: 0.7112 - loss: 0.6578\n",
            "Epoch 43: saving model to /content/drive/My Drive/Colab Notebooks/models/more_dropout/model_checkpoints/more_dropout.weights.h5\n",
            "\u001b[1m32/32\u001b[0m \u001b[32m━━━━━━━━━━━━━━━━━━━━\u001b[0m\u001b[37m\u001b[0m \u001b[1m314s\u001b[0m 10s/step - accuracy: 0.7114 - loss: 0.6578 - val_accuracy: 0.6987 - val_loss: 0.6857\n",
            "Epoch 44/150\n",
            "\u001b[1m32/32\u001b[0m \u001b[32m━━━━━━━━━━━━━━━━━━━━\u001b[0m\u001b[37m\u001b[0m \u001b[1m0s\u001b[0m 8s/step - accuracy: 0.6976 - loss: 0.6485\n",
            "Epoch 44: saving model to /content/drive/My Drive/Colab Notebooks/models/more_dropout/model_checkpoints/more_dropout.weights.h5\n",
            "\u001b[1m32/32\u001b[0m \u001b[32m━━━━━━━━━━━━━━━━━━━━\u001b[0m\u001b[37m\u001b[0m \u001b[1m297s\u001b[0m 9s/step - accuracy: 0.6980 - loss: 0.6486 - val_accuracy: 0.7167 - val_loss: 0.6571\n",
            "Epoch 45/150\n",
            "\u001b[1m32/32\u001b[0m \u001b[32m━━━━━━━━━━━━━━━━━━━━\u001b[0m\u001b[37m\u001b[0m \u001b[1m0s\u001b[0m 8s/step - accuracy: 0.7191 - loss: 0.6458\n",
            "Epoch 45: saving model to /content/drive/My Drive/Colab Notebooks/models/more_dropout/model_checkpoints/more_dropout.weights.h5\n",
            "\u001b[1m32/32\u001b[0m \u001b[32m━━━━━━━━━━━━━━━━━━━━\u001b[0m\u001b[37m\u001b[0m \u001b[1m292s\u001b[0m 9s/step - accuracy: 0.7192 - loss: 0.6457 - val_accuracy: 0.7256 - val_loss: 0.6647\n",
            "Epoch 46/150\n",
            "\u001b[1m32/32\u001b[0m \u001b[32m━━━━━━━━━━━━━━━━━━━━\u001b[0m\u001b[37m\u001b[0m \u001b[1m0s\u001b[0m 8s/step - accuracy: 0.7213 - loss: 0.6605\n",
            "Epoch 46: saving model to /content/drive/My Drive/Colab Notebooks/models/more_dropout/model_checkpoints/more_dropout.weights.h5\n",
            "\u001b[1m32/32\u001b[0m \u001b[32m━━━━━━━━━━━━━━━━━━━━\u001b[0m\u001b[37m\u001b[0m \u001b[1m286s\u001b[0m 9s/step - accuracy: 0.7213 - loss: 0.6604 - val_accuracy: 0.7295 - val_loss: 0.6499\n",
            "Epoch 47/150\n",
            "\u001b[1m32/32\u001b[0m \u001b[32m━━━━━━━━━━━━━━━━━━━━\u001b[0m\u001b[37m\u001b[0m \u001b[1m0s\u001b[0m 8s/step - accuracy: 0.7103 - loss: 0.6610\n",
            "Epoch 47: saving model to /content/drive/My Drive/Colab Notebooks/models/more_dropout/model_checkpoints/more_dropout.weights.h5\n",
            "\u001b[1m32/32\u001b[0m \u001b[32m━━━━━━━━━━━━━━━━━━━━\u001b[0m\u001b[37m\u001b[0m \u001b[1m330s\u001b[0m 9s/step - accuracy: 0.7104 - loss: 0.6609 - val_accuracy: 0.7269 - val_loss: 0.6586\n",
            "Epoch 48/150\n",
            "\u001b[1m32/32\u001b[0m \u001b[32m━━━━━━━━━━━━━━━━━━━━\u001b[0m\u001b[37m\u001b[0m \u001b[1m0s\u001b[0m 8s/step - accuracy: 0.7248 - loss: 0.6381\n",
            "Epoch 48: saving model to /content/drive/My Drive/Colab Notebooks/models/more_dropout/model_checkpoints/more_dropout.weights.h5\n",
            "\u001b[1m32/32\u001b[0m \u001b[32m━━━━━━━━━━━━━━━━━━━━\u001b[0m\u001b[37m\u001b[0m \u001b[1m285s\u001b[0m 9s/step - accuracy: 0.7247 - loss: 0.6384 - val_accuracy: 0.7231 - val_loss: 0.6701\n",
            "Epoch 49/150\n",
            "\u001b[1m32/32\u001b[0m \u001b[32m━━━━━━━━━━━━━━━━━━━━\u001b[0m\u001b[37m\u001b[0m \u001b[1m0s\u001b[0m 8s/step - accuracy: 0.7171 - loss: 0.6294\n",
            "Epoch 49: saving model to /content/drive/My Drive/Colab Notebooks/models/more_dropout/model_checkpoints/more_dropout.weights.h5\n",
            "\u001b[1m32/32\u001b[0m \u001b[32m━━━━━━━━━━━━━━━━━━━━\u001b[0m\u001b[37m\u001b[0m \u001b[1m283s\u001b[0m 9s/step - accuracy: 0.7168 - loss: 0.6300 - val_accuracy: 0.7103 - val_loss: 0.6658\n",
            "Epoch 50/150\n",
            "\u001b[1m32/32\u001b[0m \u001b[32m━━━━━━━━━━━━━━━━━━━━\u001b[0m\u001b[37m\u001b[0m \u001b[1m0s\u001b[0m 8s/step - accuracy: 0.7224 - loss: 0.6520\n",
            "Epoch 50: saving model to /content/drive/My Drive/Colab Notebooks/models/more_dropout/model_checkpoints/more_dropout.weights.h5\n",
            "\u001b[1m32/32\u001b[0m \u001b[32m━━━━━━━━━━━━━━━━━━━━\u001b[0m\u001b[37m\u001b[0m \u001b[1m326s\u001b[0m 9s/step - accuracy: 0.7223 - loss: 0.6524 - val_accuracy: 0.7115 - val_loss: 0.6718\n",
            "Epoch 51/150\n",
            "\u001b[1m32/32\u001b[0m \u001b[32m━━━━━━━━━━━━━━━━━━━━\u001b[0m\u001b[37m\u001b[0m \u001b[1m0s\u001b[0m 8s/step - accuracy: 0.7206 - loss: 0.6366\n",
            "Epoch 51: saving model to /content/drive/My Drive/Colab Notebooks/models/more_dropout/model_checkpoints/more_dropout.weights.h5\n",
            "\u001b[1m32/32\u001b[0m \u001b[32m━━━━━━━━━━━━━━━━━━━━\u001b[0m\u001b[37m\u001b[0m \u001b[1m289s\u001b[0m 9s/step - accuracy: 0.7207 - loss: 0.6367 - val_accuracy: 0.7231 - val_loss: 0.6702\n",
            "Epoch 52/150\n",
            "\u001b[1m32/32\u001b[0m \u001b[32m━━━━━━━━━━━━━━━━━━━━\u001b[0m\u001b[37m\u001b[0m \u001b[1m0s\u001b[0m 9s/step - accuracy: 0.7188 - loss: 0.6491\n",
            "Epoch 52: saving model to /content/drive/My Drive/Colab Notebooks/models/more_dropout/model_checkpoints/more_dropout.weights.h5\n",
            "\u001b[1m32/32\u001b[0m \u001b[32m━━━━━━━━━━━━━━━━━━━━\u001b[0m\u001b[37m\u001b[0m \u001b[1m292s\u001b[0m 9s/step - accuracy: 0.7187 - loss: 0.6493 - val_accuracy: 0.7192 - val_loss: 0.6812\n",
            "Epoch 53/150\n",
            "\u001b[1m32/32\u001b[0m \u001b[32m━━━━━━━━━━━━━━━━━━━━\u001b[0m\u001b[37m\u001b[0m \u001b[1m0s\u001b[0m 8s/step - accuracy: 0.7220 - loss: 0.6375\n",
            "Epoch 53: saving model to /content/drive/My Drive/Colab Notebooks/models/more_dropout/model_checkpoints/more_dropout.weights.h5\n",
            "\u001b[1m32/32\u001b[0m \u001b[32m━━━━━━━━━━━━━━━━━━━━\u001b[0m\u001b[37m\u001b[0m \u001b[1m287s\u001b[0m 9s/step - accuracy: 0.7219 - loss: 0.6376 - val_accuracy: 0.7269 - val_loss: 0.6522\n",
            "Epoch 54/150\n",
            "\u001b[1m32/32\u001b[0m \u001b[32m━━━━━━━━━━━━━━━━━━━━\u001b[0m\u001b[37m\u001b[0m \u001b[1m0s\u001b[0m 9s/step - accuracy: 0.7258 - loss: 0.6170\n",
            "Epoch 54: saving model to /content/drive/My Drive/Colab Notebooks/models/more_dropout/model_checkpoints/more_dropout.weights.h5\n",
            "\u001b[1m32/32\u001b[0m \u001b[32m━━━━━━━━━━━━━━━━━━━━\u001b[0m\u001b[37m\u001b[0m \u001b[1m328s\u001b[0m 9s/step - accuracy: 0.7257 - loss: 0.6172 - val_accuracy: 0.7115 - val_loss: 0.6610\n"
          ]
        },
        {
          "data": {
            "text/plain": [
              "<keras.src.callbacks.history.History at 0x7c2495a68450>"
            ]
          },
          "execution_count": 6,
          "metadata": {},
          "output_type": "execute_result"
        },
        {
          "data": {
            "image/png": "[encoded data removed]",
            "text/plain": [
              "<Figure size 640x480 with 1 Axes>"
            ]
          },
          "metadata": {},
          "output_type": "display_data"
        }
      ],
      "source": [
        "# more dropout\n",
        "model3 = Sequential([\n",
        "  data_augmentation,\n",
        "  layers.Rescaling(1./255, input_shape=(image_size, image_size, 3)),\n",
        "  layers.Conv2D(16, 3, padding='same', activation='relu'),\n",
        "  layers.MaxPooling2D(),\n",
        "  layers.Conv2D(32, 3, padding='same', activation='relu'),\n",
        "  layers.MaxPooling2D(),\n",
        "  layers.Conv2D(64, 3, padding='same', activation='relu'),\n",
        "  layers.MaxPooling2D(),\n",
        "  layers.Dropout(0.4),\n",
        "  layers.Flatten(),\n",
        "  layers.Dense(128, activation='relu'),\n",
        "  layers.Dropout(0.4),\n",
        "  layers.Dense(num_classes)\n",
        "])\n",
        "\n",
        "train_save_plot_model(model3, epochs, patience, df_train, df_val, 'more_dropout')"
      ]
    }
  ],
  "metadata": {
    "colab": {
      "provenance": []
    },
    "kernelspec": {
      "display_name": "ds3.12",
      "language": "python",
      "name": "python3"
    },
    "language_info": {
      "codemirror_mode": {
        "name": "ipython",
        "version": 3
      },
      "file_extension": ".py",
      "mimetype": "text/x-python",
      "name": "python",
      "nbconvert_exporter": "python",
      "pygments_lexer": "ipython3",
      "version": "3.12.8"
    }
  },
  "nbformat": 4,
  "nbformat_minor": 5
}
