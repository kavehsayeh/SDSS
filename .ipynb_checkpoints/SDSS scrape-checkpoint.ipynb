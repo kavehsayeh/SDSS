{
 "cells": [
  {
   "cell_type": "markdown",
   "id": "f268067a-cfed-4203-84a3-289fae2fd296",
   "metadata": {},
   "source": [
    "The idea behind this project is to use imagery from the Sloan Digital Sky Survey, an ongoing sky survey that (among other data) has compiled imagery of roughly 35% of the sky, to train a deep learning model to classify galaxies according to their morphological structure.\n",
    "\n",
    "Galaxies fall into 4 broad morphological types:\n",
    "- Elliptical galaxies, which look like diffuse, featureless ellipsoids.\n",
    "- Spiral galaxies, which look like the classic \"disc with spiral arms\" shape that galaxies are usually depicted as;\n",
    "- Lenticular galaxies, which are an intermediate class consisting of a bright central bulge surrounded by a diffuse disc with no spiral structure;\n",
    "- Irregular galaxies, which do not have a discernable greater structure.\n",
    "This classification is known as the \"Hubble sequence\".\n",
    "\n",
    "For training data, we use the New General and Index Catalogues, two 19th-century directory of 13,226 galaxies, nebulae, star clusters, and other miscellaneous deep-sky objects.\n",
    "\n",
    "These objects are compiled in csv format here: https://github.com/mattiaverga/OpenNGC?tab=readme-ov-file, including corrections of many errors / duplicated objects.\n",
    "\n",
    "This databse includes their position in the sky in the right ascension / declination coordinate system, their angular size, and the Hubble classification of most included galaxies.\n",
    "We use this data to pull imagery of every galaxy from the SDSS using their ImgCutout API."
   ]
  },
  {
   "cell_type": "code",
   "execution_count": 3,
   "id": "bd83d7c7",
   "metadata": {},
   "outputs": [],
   "source": [
    "import numpy as np\n",
    "import pandas as pd\n",
    "import urllib.request\n",
    "import os\n",
    "ngc_ic_raw = pd.read_csv(\"OpenNGC-master/database_files/NGC.csv\", sep=';', index_col=0)"
   ]
  },
  {
   "cell_type": "markdown",
   "id": "b98a3ff5-ceee-40e2-bd39-5be5fef9a023",
   "metadata": {},
   "source": [
    "We trim the dataset to include only galaxies with a provided Hubble class, and ignore all columns not relevant to us - we only need the location in the sky, angular size, and Hubble class. (The majority of the objects in the NGC / IC catalogues are galaxies, so we still have plenty of data.)"
   ]
  },
  {
   "cell_type": "code",
   "execution_count": 4,
   "id": "d734b06a",
   "metadata": {},
   "outputs": [
    {
     "data": {
      "text/plain": [
       "(10137, 4)"
      ]
     },
     "execution_count": 4,
     "metadata": {},
     "output_type": "execute_result"
    }
   ],
   "source": [
    "# Trim dataset to include galaxies with a specified Hubble class only.\n",
    "ngc_ic_galaxies = ngc_ic_raw[(ngc_ic_raw['Type'] == 'G') & (~pd.isnull(ngc_ic_raw['Hubble']))]\n",
    "# trim columns to just the ones relevant for type, location, and angular size.\n",
    "ngc_ic = ngc_ic_galaxies[['RA', 'Dec', 'MajAx', 'Hubble']]\n",
    "ngc_ic.shape"
   ]
  },
  {
   "cell_type": "code",
   "execution_count": 5,
   "id": "5bfc84a6",
   "metadata": {
    "scrolled": true
   },
   "outputs": [
    {
     "name": "stderr",
     "output_type": "stream",
     "text": [
      "/var/folders/pj/d1crch5j30s__4vxlk7nq4140000gn/T/ipykernel_93188/3258966821.py:21: SettingWithCopyWarning: \n",
      "A value is trying to be set on a copy of a slice from a DataFrame.\n",
      "Try using .loc[row_indexer,col_indexer] = value instead\n",
      "\n",
      "See the caveats in the documentation: https://pandas.pydata.org/pandas-docs/stable/user_guide/indexing.html#returning-a-view-versus-a-copy\n",
      "  ngc_ic.loc[:, 'RA_decimal'] = ngc_ic.loc[:, 'RA'].apply(RA_HMS_to_dec_deg)\n",
      "/var/folders/pj/d1crch5j30s__4vxlk7nq4140000gn/T/ipykernel_93188/3258966821.py:22: SettingWithCopyWarning: \n",
      "A value is trying to be set on a copy of a slice from a DataFrame.\n",
      "Try using .loc[row_indexer,col_indexer] = value instead\n",
      "\n",
      "See the caveats in the documentation: https://pandas.pydata.org/pandas-docs/stable/user_guide/indexing.html#returning-a-view-versus-a-copy\n",
      "  ngc_ic.loc[:, 'Dec_decimal'] = ngc_ic.loc[:, 'Dec'].apply(DEC_DMS_to_dec_deg)\n"
     ]
    }
   ],
   "source": [
    "# Currently, right ascension and declination are given in non-decimal units and as strings; convert to decimal.\n",
    "def RA_HMS_to_dec_deg(HMS):\n",
    "    HMS_list = HMS.split(':')\n",
    "    hours, minutes, seconds = float(HMS_list[0]), float(HMS_list[1]), float(HMS_list[2])\n",
    "    deg = 15*hours + 0.25*minutes + (1/240)*seconds\n",
    "    return deg\n",
    "\n",
    "def DEC_DMS_to_dec_deg(DMS):\n",
    "    sign = DMS[0]\n",
    "    if sign == '+':\n",
    "        sign = 1\n",
    "    elif sign == '-':\n",
    "        sign = -1\n",
    "    else:\n",
    "        raise ValueError('Object declination does not begin with sign')\n",
    "    DMS_list = DMS[1:].split(':')\n",
    "    degrees, minutes, seconds = float(DMS_list[0]), float(DMS_list[1]), float(DMS_list[2])\n",
    "    deg = sign*(degrees + (1/60)*minutes + (1/3600)*seconds)\n",
    "    return deg\n",
    "\n",
    "ngc_ic.loc[:, 'RA_decimal'] = ngc_ic.loc[:, 'RA'].apply(RA_HMS_to_dec_deg)\n",
    "ngc_ic.loc[:, 'Dec_decimal'] = ngc_ic.loc[:, 'Dec'].apply(DEC_DMS_to_dec_deg)"
   ]
  },
  {
   "cell_type": "markdown",
   "id": "16bd8ca1-9453-4070-b9e1-2f9857bd4e74",
   "metadata": {},
   "source": [
    "The SDSS does not cover the full sky - their coverage map is avaliable here: https://classic.sdss.org/dr7/coverage/\n",
    "We drop all objects lying outside a rectangle positioned inside the bulk of the coverage. This still leaves over 4000 objects for training:"
   ]
  },
  {
   "cell_type": "code",
   "execution_count": 8,
   "id": "ccc43987-614f-4160-9dd6-4d6fc60a02b5",
   "metadata": {},
   "outputs": [
    {
     "data": {
      "text/plain": [
       "(4059, 6)"
      ]
     },
     "execution_count": 8,
     "metadata": {},
     "output_type": "execute_result"
    }
   ],
   "source": [
    "# SDSS imagery does not cover the whole sky - we filter RA and DEC so that all objects lie in the bulk of the SDSS coverage zone.\n",
    "SDSS_imagery = (ngc_ic['Dec_decimal'] > 0) & (ngc_ic['Dec_decimal'] < 60) & (ngc_ic['RA_decimal'] > 120) & (ngc_ic['RA_decimal'] < 240)\n",
    "ngc_ic_SDSS_imagery = ngc_ic[SDSS_imagery]\n",
    "ngc_ic_SDSS_imagery.shape"
   ]
  },
  {
   "cell_type": "markdown",
   "id": "74370e59-4373-43da-9f7f-7ae98dfe16ba",
   "metadata": {},
   "source": [
    "The Hubble types provided in the dataset are much more specific than the four broad types outlined above, with subclassifications based on how tightly wound a spiral galaxy's arms are, the presence of a central bar, and faint spiral structures visible in some irregular galaxies. We group these subclassifications togehter:"
   ]
  },
  {
   "cell_type": "code",
   "execution_count": 19,
   "id": "44c34c17-df3a-4ce9-8948-76b2355e2a78",
   "metadata": {
    "scrolled": true
   },
   "outputs": [
    {
     "name": "stderr",
     "output_type": "stream",
     "text": [
      "/var/folders/pj/d1crch5j30s__4vxlk7nq4140000gn/T/ipykernel_93188/3960407331.py:16: SettingWithCopyWarning: \n",
      "A value is trying to be set on a copy of a slice from a DataFrame.\n",
      "Try using .loc[row_indexer,col_indexer] = value instead\n",
      "\n",
      "See the caveats in the documentation: https://pandas.pydata.org/pandas-docs/stable/user_guide/indexing.html#returning-a-view-versus-a-copy\n",
      "  ngc_ic_SDSS_imagery.loc[:, 'Hubble_coarse'] = ngc_ic_SDSS_imagery.apply(coarse_hubble_type, axis=1)\n"
     ]
    },
    {
     "data": {
      "text/plain": [
       "Hubble_coarse\n",
       "spiral        2224\n",
       "lenticular     898\n",
       "elliptical     733\n",
       "irregular      204\n",
       "Name: count, dtype: int64"
      ]
     },
     "execution_count": 19,
     "metadata": {},
     "output_type": "execute_result"
    }
   ],
   "source": [
    "coarse_hubble_types={\n",
    "    'elliptical' : ['E', 'E?'],\n",
    "    'lenticular' : ['S0', 'E-S0', 'S0-a', 'S?'],\n",
    "    'spiral' : ['Sa', 'Sab', 'Sb', 'Sbc', 'Sc', 'Scd', # ordinary spirals\n",
    "              'SABa', 'SABab', 'SABb', 'SABbc', 'SABc', 'SABcd', 'SABd', # weakly barred spirals\n",
    "              'SBa', 'SBab', 'SBb', 'SBbc', 'SBc' ,'SBcd', 'SBd' ], # barred spirals\n",
    "    'irregular' : ['Sd', 'SABd', 'SBd', # weak spirals\n",
    "                 'Sm', 'SBm', 'SABm',\n",
    "                 'I', 'IB', 'IAB']}\n",
    "def coarse_hubble_type(row):\n",
    "    for key, value in coarse_hubble_types.items():\n",
    "        if row['Hubble'] in value:\n",
    "            return key\n",
    "    raise ValueError('No coarse hubble type for input.')\n",
    "\n",
    "ngc_ic_SDSS_imagery.loc[:, 'Hubble_coarse'] = ngc_ic_SDSS_imagery.apply(coarse_hubble_type, axis=1)\n",
    "ngc_ic_SDSS_imagery['Hubble_coarse'].value_counts()"
   ]
  },
  {
   "cell_type": "markdown",
   "id": "4125281c-4243-4354-b14f-db355e93e024",
   "metadata": {},
   "source": [
    "We choose to scale each object so that they have the same apparent size in our training images. ImgCutout requests both an image size and a resolution in arcsec / pixel (between 0.015 and 60), so we compute the resolution required for a 256x256 image of each object:"
   ]
  },
  {
   "cell_type": "code",
   "execution_count": 15,
   "id": "838151c7-0e9a-4679-94fa-ccefda858fd8",
   "metadata": {},
   "outputs": [
    {
     "name": "stdout",
     "output_type": "stream",
     "text": [
      "Objects which are too small / too big: ['IC2431 NED01']\n"
     ]
    }
   ],
   "source": [
    "# We use the major axis to compute this scale.\n",
    "image_size = 256\n",
    "padding = 1.25\n",
    "violated_bounds = []\n",
    "def create_resolution(row):\n",
    "    MajAxArcsec = row['MajAx'] * 60\n",
    "    res = MajAxArcsec * padding / image_size\n",
    "    bounded_res = sorted([0.015, res, 60])[1]  \n",
    "    # check which objects bump up against the resolution bounds:\n",
    "    if bounded_res == 0.015 or bounded_res == 60:\n",
    "        violated_bounds.append(row.name)\n",
    "    return bounded_res\n",
    "ngc_ic_SDSS_imagery.loc[:, 'image_res'] = ngc_ic_SDSS_imagery.apply(create_resolution, axis=1)\n",
    "print('Objects which are too small / too big: ' + str(violated_bounds))"
   ]
  },
  {
   "cell_type": "markdown",
   "id": "03120207-20ec-486c-8f3a-5b53f7bd017e",
   "metadata": {},
   "source": [
    "Next, we build the links to access the SDSS imagery. They are of the format:\n",
    "https://skyservice.pha.jhu.edu/DR7/ImgCutout/getjpeg.aspx?ra={RA}&dec={DEC}&width={IMG_WIDTH}&height={IMG_HEIGHT}&scale={IMG_RES}"
   ]
  },
  {
   "cell_type": "code",
   "execution_count": 18,
   "id": "381ca887-adc1-4a28-b9f3-4ced9830a391",
   "metadata": {},
   "outputs": [
    {
     "data": {
      "text/plain": [
       "'https://skyservice.pha.jhu.edu/DR7/ImgCutout/getjpeg.aspx?ra=120.082375&dec=26.701444444444444&width=256&height=256&scale=0.34277343749999994'"
      ]
     },
     "execution_count": 18,
     "metadata": {},
     "output_type": "execute_result"
    }
   ],
   "source": [
    "url_0 = \"https://skyservice.pha.jhu.edu/DR7/ImgCutout/getjpeg.aspx?ra=\"\n",
    "url_1 = \"&dec=\"\n",
    "url_2 = \"&width=\"\n",
    "url_3 = \"&height=\"\n",
    "url_4 = \"&scale=\"\n",
    "\n",
    "def produce_link(row):\n",
    "    ra = str(row['RA_decimal'])\n",
    "    dec = str(row['Dec_decimal'])\n",
    "    scale = str(row['image_res'])\n",
    "    return url_0 + str(ra) + url_1 + str(dec) + url_2 + str(image_size) + url_3 + str(image_size) + url_4 + str(scale)\n",
    "\n",
    "ngc_ic_SDSS_imagery.loc[:, 'image_link'] = ngc_ic_SDSS_imagery.apply(produce_link, axis=1)\n",
    "ngc_ic_SDSS_imagery.iloc[1, -1] # output example link"
   ]
  },
  {
   "cell_type": "markdown",
   "id": "c708d068-d9f6-4155-b71a-b1bf6ac44da7",
   "metadata": {},
   "source": [
    "We now iterate over these links and download them, grouping them by their coarse Hubble classification."
   ]
  },
  {
   "cell_type": "code",
   "execution_count": 20,
   "id": "307511e8-4683-479f-a1a9-dc7c94baaa5b",
   "metadata": {},
   "outputs": [],
   "source": [
    "def get_image(row):\n",
    "    object_name = row.name\n",
    "    object_class = row['Hubble_coarse']\n",
    "    folder = 'imagery/{}'.format(object_class)\n",
    "    if not os.path.exists(folder):\n",
    "        os.makedirs(folder)\n",
    "    filename = folder + '/{}.jpg'.format(object_name)\n",
    "    url = row['image_link']\n",
    "    urllib.request.urlretrieve(url, filename) \n",
    "\n",
    "#ngc_ic_SDSS_imagery.apply(get_image, axis=1)\n",
    "# ways to improve:\n",
    "## omit single members of galaxy pairs / triples - identfy by NED suffix\n",
    "## filter out galaxies that require too small a resolution\n",
    "## Should include a matplotlib demo of the images."
   ]
  },
  {
   "cell_type": "code",
   "execution_count": 12,
   "id": "f6fc1582-5b79-48b6-89e8-54812516933b",
   "metadata": {},
   "outputs": [
    {
     "name": "stderr",
     "output_type": "stream",
     "text": [
      "2025-01-26 15:51:23.618532: I tensorflow/core/platform/cpu_feature_guard.cc:210] This TensorFlow binary is optimized to use available CPU instructions in performance-critical operations.\n",
      "To enable the following instructions: SSE4.1 SSE4.2, in other operations, rebuild TensorFlow with the appropriate compiler flags.\n"
     ]
    }
   ],
   "source": [
    "import tensorflow as tf\n",
    "from tensorflow import keras\n",
    "from tensorflow.keras import layers\n",
    "from keras.models import Sequential\n",
    "from keras.preprocessing import image_dataset_from_directory\n",
    "import os \n",
    "os.environ['KMP_DUPLICATE_LIB_OK']='True'"
   ]
  },
  {
   "cell_type": "code",
   "execution_count": 13,
   "id": "3593ada2-a31d-4b17-9934-855b28f3618f",
   "metadata": {},
   "outputs": [
    {
     "name": "stdout",
     "output_type": "stream",
     "text": [
      "Found 4097 files belonging to 4 classes.\n",
      "Using 3278 files for training.\n",
      "Using 819 files for validation.\n",
      "['elliptical', 'irregular', 'lenticular', 'spiral']\n"
     ]
    }
   ],
   "source": [
    "df_train, df_val = image_dataset_from_directory('imagery',\n",
    "                                 validation_split = 0.2,\n",
    "                                 subset='both',\n",
    "                                 seed = 0,\n",
    "                                 image_size = (image_size, image_size))\n",
    "class_names = df_train.class_names\n",
    "num_classes = len(class_names)\n",
    "print(class_names)"
   ]
  },
  {
   "cell_type": "code",
   "execution_count": 14,
   "id": "66b6ecbe-eb09-473e-a241-919a7f2a4c7f",
   "metadata": {},
   "outputs": [],
   "source": [
    "AUTOTUNE = tf.data.AUTOTUNE\n",
    "\n",
    "df_train = df_train.cache().shuffle(1000).prefetch(buffer_size=AUTOTUNE)\n",
    "df_val = df_val.cache().prefetch(buffer_size=AUTOTUNE)"
   ]
  },
  {
   "cell_type": "code",
   "execution_count": 15,
   "id": "cf8aad39-1a07-44bc-90e4-fb8e635e037b",
   "metadata": {},
   "outputs": [
    {
     "name": "stderr",
     "output_type": "stream",
     "text": [
      "/Users/kaveh/opt/anaconda3/envs/ds3.12/lib/python3.12/site-packages/keras/src/layers/preprocessing/tf_data_layer.py:19: UserWarning: Do not pass an `input_shape`/`input_dim` argument to a layer. When using Sequential models, prefer using an `Input(shape)` object as the first layer in the model instead.\n",
      "  super().__init__(**kwargs)\n"
     ]
    }
   ],
   "source": [
    "model = Sequential([\n",
    "  layers.Rescaling(1./255, input_shape=(image_size, image_size, 3)),\n",
    "  layers.Conv2D(16, 3, padding='same', activation='relu'),\n",
    "  layers.MaxPooling2D(),\n",
    "  layers.Conv2D(32, 3, padding='same', activation='relu'),\n",
    "  layers.MaxPooling2D(),\n",
    "  layers.Conv2D(64, 3, padding='same', activation='relu'),\n",
    "  layers.MaxPooling2D(),\n",
    "  layers.Flatten(),\n",
    "  layers.Dense(128, activation='relu'),\n",
    "  layers.Dense(num_classes)\n",
    "])"
   ]
  },
  {
   "cell_type": "code",
   "execution_count": 16,
   "id": "1341df64-fef7-4d81-acf6-fa88d319587e",
   "metadata": {},
   "outputs": [],
   "source": [
    "model.compile(optimizer = 'adam', loss=keras.losses.SparseCategoricalCrossentropy(from_logits=True),\n",
    "              metrics=['accuracy'])"
   ]
  },
  {
   "cell_type": "code",
   "execution_count": null,
   "id": "a14d33f9-feef-419c-9b9d-d0538a62860c",
   "metadata": {},
   "outputs": [
    {
     "name": "stdout",
     "output_type": "stream",
     "text": [
      "Epoch 1/20\n"
     ]
    }
   ],
   "source": [
    "model.fit(df_train, validation_data = df_val, epochs=20)"
   ]
  },
  {
   "cell_type": "code",
   "execution_count": null,
   "id": "9bab5c5b-048b-4631-9cf2-80227e86664e",
   "metadata": {},
   "outputs": [],
   "source": []
  }
 ],
 "metadata": {
  "kernelspec": {
   "display_name": "Python 3 (ipykernel)",
   "language": "python",
   "name": "python3"
  },
  "language_info": {
   "codemirror_mode": {
    "name": "ipython",
    "version": 3
   },
   "file_extension": ".py",
   "mimetype": "text/x-python",
   "name": "python",
   "nbconvert_exporter": "python",
   "pygments_lexer": "ipython3",
   "version": "3.12.8"
  }
 },
 "nbformat": 4,
 "nbformat_minor": 5
}
