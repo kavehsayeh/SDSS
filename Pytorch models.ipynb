{
 "cells": [
  {
   "cell_type": "code",
   "execution_count": 71,
   "metadata": {},
   "outputs": [
    {
     "data": {
      "text/plain": [
       "False"
      ]
     },
     "execution_count": 71,
     "metadata": {},
     "output_type": "execute_result"
    }
   ],
   "source": [
    "import pandas as pd\n",
    "import matplotlib.pyplot as plt\n",
    "import torch\n",
    "import torch.nn as nn\n",
    "import torch.optim as optim\n",
    "from torch.utils.data import DataLoader, Dataset, random_split\n",
    "from torchvision import transforms\n",
    "import torchvision.io as io"
   ]
  },
  {
   "cell_type": "code",
   "execution_count": 65,
   "metadata": {},
   "outputs": [],
   "source": [
    "# Steps:\n",
    "## Create training and validation datasets from files.\n",
    "## Create data loaders for each dataset\n",
    "class SDSSImagery(Dataset):\n",
    "    def __init__(self, labels, transform=None):\n",
    "        self.img_labels = pd.read_csv(labels, dtype={'image_filepath': 'str', 'Hubble_coarse' : 'category'})\n",
    "        self.img_labels['Hubble_coarse_encoded'] = self.img_labels['Hubble_coarse'].cat.codes.astype('category')\n",
    "        self.transform = transform\n",
    "    \n",
    "    def __len__(self):\n",
    "        return len(self.img_labels)\n",
    "    \n",
    "    def __getitem__(self, idx):\n",
    "        if torch.is_tensor(idx):\n",
    "            idx = idx.tolist()\n",
    "        \n",
    "        img_name = self.img_labels.iloc[idx, 0]\n",
    "        image = io.read_image(img_name)\n",
    "        image = image / 255\n",
    "        label = self.img_labels.iloc[idx, 2]\n",
    "\n",
    "        if self.transform:\n",
    "            image = self.transform(image)\n",
    "        return image, label"
   ]
  },
  {
   "cell_type": "code",
   "execution_count": 66,
   "metadata": {},
   "outputs": [],
   "source": [
    "dataset = SDSSImagery(labels='image_labels.csv')\n",
    "train_ds, val_ds = random_split(dataset, [0.8, 0.2])\n",
    "\n",
    "batch_size = 64\n",
    "train_dataloader = DataLoader(train_ds, batch_size, shuffle=True)\n",
    "val_dataloader = DataLoader(val_ds, batch_size, shuffle=True)"
   ]
  },
  {
   "cell_type": "code",
   "execution_count": 67,
   "metadata": {},
   "outputs": [],
   "source": [
    "image_size = 256\n",
    "num_classes = 4\n",
    "BasicCNN = nn.Sequential(\n",
    "    nn.Conv2d(3, 16, 3, padding='same'),\n",
    "    nn.ReLU(),\n",
    "    nn.MaxPool2d(2),\n",
    "    \n",
    "    nn.Conv2d(16, 32, 3, padding='same'),\n",
    "    nn.ReLU(),\n",
    "    nn.MaxPool2d(2),\n",
    "\n",
    "    nn.Conv2d(32, 64, 3, padding='same'),\n",
    "    nn.ReLU(),\n",
    "    nn.MaxPool2d(2),\n",
    "\n",
    "    nn.Flatten(),\n",
    "    nn.Dropout(0.3),\n",
    "    nn.Linear(int((64*(image_size**2)) / (4**3)), 128),\n",
    "    nn.ReLU(),\n",
    "    nn.Dropout(0.3),\n",
    "    nn.Linear(128, num_classes),\n",
    ")\n",
    "\n",
    "# Read number of classes and image size from data?\n",
    "\n",
    "loss_fn = nn.CrossEntropyLoss()\n",
    "optimizer = optim.Adam(BasicCNN.parameters())"
   ]
  },
  {
   "cell_type": "code",
   "execution_count": 68,
   "metadata": {},
   "outputs": [],
   "source": [
    "def train_one_epoch(model, loss_fn, optimizer, train_dataloader, report_interval_batches=100000000):\n",
    "    running_loss = 0\n",
    "    last_loss = 0\n",
    "    for i, data in enumerate(train_dataloader, 0):\n",
    "        inputs, labels = data\n",
    "\n",
    "        optimizer.zero_grad()\n",
    "        outputs = model(inputs)\n",
    "        \n",
    "        loss = loss_fn(outputs, labels.long())\n",
    "        loss.backward()\n",
    "        optimizer.step()\n",
    "\n",
    "        running_loss += loss.item()\n",
    "        if i % report_interval_batches == report_interval_batches - 1:\n",
    "            last_loss = running_loss / report_interval_batches\n",
    "            print(' batch {} loss: {}'.format(i+i, last_loss), end='\\x1b[1K\\r')\n",
    "            running_loss = 0.0\n",
    "    return last_loss\n"
   ]
  },
  {
   "cell_type": "code",
   "execution_count": 69,
   "metadata": {},
   "outputs": [],
   "source": [
    "def train_model(model, loss_fn, optimizer, train_dataloader, val_dataloader, epochs, patience, model_path):\n",
    "    # model:\n",
    "    best_vloss = float('inf')\n",
    "    failed_to_improve = 0\n",
    "    train_loss_history = []\n",
    "    val_loss_history = []\n",
    "    for epoch in range(epochs):\n",
    "        print('EPOCH {}'.format(epoch+1))\n",
    "        model.train(True)\n",
    "        avg_loss = train_one_epoch(model, loss_fn, optimizer, train_dataloader, 1)\n",
    "        train_loss_history.append(avg_loss)\n",
    "\n",
    "        running_vloss = 0\n",
    "        model.eval()\n",
    "        with torch.no_grad():\n",
    "            for i, vdata in enumerate(val_dataloader):\n",
    "                vinputs, vlabels = vdata\n",
    "                voutputs = model(vinputs)\n",
    "                vloss = loss_fn(voutputs, vlabels.long())\n",
    "                running_vloss += vloss\n",
    "\n",
    "        avg_vloss = running_vloss / (i+1)\n",
    "        val_loss_history.append(avg_vloss)\n",
    "\n",
    "        print('LOSS train {} valid {}'.format(avg_loss, avg_vloss))\n",
    "\n",
    "        if avg_vloss < best_vloss:\n",
    "            best_vloss = avg_vloss\n",
    "            torch.save(model.state_dict(), model_path)\n",
    "        else:\n",
    "            failed_to_improve += 1\n",
    "\n",
    "        if failed_to_improve >= patience:\n",
    "            break\n",
    "    print('Finished Training')\n",
    "    history_df = pd.DataFrame({'Training loss' : train_loss_history, 'Validation loss' : val_loss_history})\n",
    "    history_df.plot()\n",
    "    return train_loss_history, val_loss_history\n"
   ]
  },
  {
   "cell_type": "code",
   "execution_count": 72,
   "metadata": {},
   "outputs": [
    {
     "name": "stdout",
     "output_type": "stream",
     "text": [
      "EPOCH 1\n",
      "LOSS train 1.0138254165649414 valid 0.8757760524749756\n",
      "EPOCH 2\n",
      "LOSS train 0.8444961309432983 valid 0.7637312412261963\n",
      "EPOCH 3\n",
      "LOSS train 0.6558870077133179 valid 0.7334235906600952\n",
      "EPOCH 4\n",
      "LOSS train 0.7386036515235901 valid 0.7093855142593384\n",
      "EPOCH 5\n",
      "LOSS train 0.5957022309303284 valid 0.7129086852073669\n",
      "EPOCH 6\n",
      "LOSS train 0.5016586184501648 valid 0.7792969942092896\n",
      "EPOCH 7\n",
      "LOSS train 0.43886372447013855 valid 0.7528324723243713\n",
      "EPOCH 8\n",
      "LOSS train 0.4814940392971039 valid 0.829490065574646\n",
      "EPOCH 9\n",
      "LOSS train 0.3364701271057129 valid 0.8822378516197205\n",
      "EPOCH 10\n",
      "LOSS train 0.5072190165519714 valid 0.9855236411094666\n",
      "EPOCH 11\n",
      "LOSS train 0.2718682587146759 valid 1.1346805095672607\n",
      "EPOCH 12\n",
      "LOSS train 0.31837427616119385 valid 1.2078574895858765\n",
      "EPOCH 13\n",
      "LOSS train 0.5319802165031433 valid 1.248651385307312\n",
      "EPOCH 14\n",
      "LOSS train 0.2022397369146347 valid 1.465358853340149\n",
      "Finished Training\n"
     ]
    },
    {
     "data": {
      "text/plain": [
       "([1.0138254165649414,\n",
       "  0.8444961309432983,\n",
       "  0.6558870077133179,\n",
       "  0.7386036515235901,\n",
       "  0.5957022309303284,\n",
       "  0.5016586184501648,\n",
       "  0.43886372447013855,\n",
       "  0.4814940392971039,\n",
       "  0.3364701271057129,\n",
       "  0.5072190165519714,\n",
       "  0.2718682587146759,\n",
       "  0.31837427616119385,\n",
       "  0.5319802165031433,\n",
       "  0.2022397369146347],\n",
       " [tensor(0.8758),\n",
       "  tensor(0.7637),\n",
       "  tensor(0.7334),\n",
       "  tensor(0.7094),\n",
       "  tensor(0.7129),\n",
       "  tensor(0.7793),\n",
       "  tensor(0.7528),\n",
       "  tensor(0.8295),\n",
       "  tensor(0.8822),\n",
       "  tensor(0.9855),\n",
       "  tensor(1.1347),\n",
       "  tensor(1.2079),\n",
       "  tensor(1.2487),\n",
       "  tensor(1.4654)])"
      ]
     },
     "execution_count": 72,
     "metadata": {},
     "output_type": "execute_result"
    },
    {
     "data": {
      "image/png": "[encoded data removed]",
      "text/plain": [
       "<Figure size 640x480 with 1 Axes>"
      ]
     },
     "metadata": {},
     "output_type": "display_data"
    }
   ],
   "source": [
    "train_model(BasicCNN, loss_fn, optimizer, train_dataloader, val_dataloader, 150, 10, 'models/torch/BasicCNN')"
   ]
  }
 ],
 "metadata": {
  "kernelspec": {
   "display_name": "ds3.12",
   "language": "python",
   "name": "python3"
  },
  "language_info": {
   "codemirror_mode": {
    "name": "ipython",
    "version": 3
   },
   "file_extension": ".py",
   "mimetype": "text/x-python",
   "name": "python",
   "nbconvert_exporter": "python",
   "pygments_lexer": "ipython3",
   "version": "3.12.8"
  }
 },
 "nbformat": 4,
 "nbformat_minor": 2
}
